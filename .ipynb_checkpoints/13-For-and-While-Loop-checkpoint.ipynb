{
 "cells": [
  {
   "cell_type": "markdown",
   "metadata": {},
   "source": [
    "# For Loop\n",
    "\n",
    "\n",
    "# For Loop is used for iterating through a sequence or an iterable (List, Tuple and String. E.g. ) \n",
    "\n",
    "# Syntax:\n",
    "# Iterate\n",
    "\n",
    "for item in items:\n",
    "\n",
    "    sth to do here"
   ]
  },
  {
   "cell_type": "markdown",
   "metadata": {},
   "source": [
    "# 1.) String Example"
   ]
  },
  {
   "cell_type": "code",
   "execution_count": 27,
   "metadata": {
    "collapsed": false
   },
   "outputs": [],
   "source": [
    "## String is an iterable\n",
    "s = \"Lu Jiang\""
   ]
  },
  {
   "cell_type": "code",
   "execution_count": 20,
   "metadata": {
    "collapsed": false
   },
   "outputs": [
    {
     "name": "stdout",
     "output_type": "stream",
     "text": [
      "L\n",
      "u\n",
      " \n",
      "J\n",
      "i\n",
      "a\n",
      "n\n",
      "g\n",
      "L\n",
      "u\n",
      " \n",
      "J\n",
      "i\n",
      "a\n",
      "n\n",
      "g\n"
     ]
    }
   ],
   "source": [
    "\n",
    "## \"whatever\" is a single element in a sequence or an iterable which can be iterated or operated on. \n",
    "\n",
    "## \"Whatever\" can be assigned/named in any manner you wish. \n",
    "for whatever in s:\n",
    "    \n",
    "    \n",
    "    \n",
    "    print(whatever)\n",
    "    \n",
    "\n",
    "\n",
    "for letter in s:\n",
    "    print(letter)"
   ]
  },
  {
   "cell_type": "code",
   "execution_count": 28,
   "metadata": {
    "collapsed": false
   },
   "outputs": [
    {
     "name": "stdout",
     "output_type": "stream",
     "text": [
      "Wow, you're awesome cause you're a letter: L\n",
      "Wow, you're added into a list! Congrats!\n",
      "Wow, you're awesome cause you're a letter: u\n",
      "Wow, you're added into a list! Congrats!\n",
      "Why u bad though?!, You're a space!!\n",
      "Wow, you're awesome cause you're a letter: J\n",
      "Wow, you're added into a list! Congrats!\n",
      "Wow, you're awesome cause you're a letter: i\n",
      "Wow, you're added into a list! Congrats!\n",
      "Wow, you're awesome cause you're a letter: a\n",
      "Wow, you're added into a list! Congrats!\n",
      "Wow, you're awesome cause you're a letter: n\n",
      "Wow, you're added into a list! Congrats!\n",
      "Wow, you're awesome cause you're a letter: g\n",
      "Wow, you're added into a list! Congrats!\n"
     ]
    }
   ],
   "source": [
    "# A More  Complex Logic Expression\n",
    "\n",
    "lst = []\n",
    "\n",
    "for letter in s:\n",
    "    ## this is a nested statement under the above for loop\n",
    "    if letter == \" \":\n",
    "        \n",
    "        print(\"Why u bad though?!, You're a space!!\")\n",
    "        \n",
    "        \n",
    "    ## This is a letter\n",
    "    else:\n",
    "        \n",
    "        print(\"Wow, you're awesome cause you're a letter: {}\".format(letter))\n",
    "        lst.append(letter)\n",
    "        print(\"Wow, you're added into a list! Congrats!\")\n",
    "   "
   ]
  },
  {
   "cell_type": "code",
   "execution_count": 31,
   "metadata": {
    "collapsed": false
   },
   "outputs": [
    {
     "data": {
      "text/plain": [
       "['L', 'u', 'J', 'i', 'a', 'n', 'g']"
      ]
     },
     "execution_count": 31,
     "metadata": {},
     "output_type": "execute_result"
    }
   ],
   "source": [
    "lst"
   ]
  },
  {
   "cell_type": "markdown",
   "metadata": {},
   "source": [
    "# 2.) List"
   ]
  },
  {
   "cell_type": "code",
   "execution_count": 32,
   "metadata": {
    "collapsed": true
   },
   "outputs": [],
   "source": [
    "lst0 = [2,4,6,8,9,10,11,13]"
   ]
  },
  {
   "cell_type": "code",
   "execution_count": 40,
   "metadata": {
    "collapsed": false
   },
   "outputs": [
    {
     "name": "stdout",
     "output_type": "stream",
     "text": [
      "0.6666666666666666\n",
      "1.3333333333333333\n",
      "2.0\n",
      "2.6666666666666665\n",
      "3.0\n",
      "3.3333333333333335\n",
      "3.6666666666666665\n",
      "4.333333333333333\n"
     ]
    }
   ],
   "source": [
    "for number in lst0:\n",
    "    # Division Artithmetic\n",
    "    print(number/3)"
   ]
  },
  {
   "cell_type": "code",
   "execution_count": 46,
   "metadata": {
    "collapsed": false
   },
   "outputs": [
    {
     "data": {
      "text/plain": [
       "\"\\nWhat's the feature of an even number? - the remainder of equation is \\nzero where the even number divided by 2\\n\""
      ]
     },
     "execution_count": 46,
     "metadata": {},
     "output_type": "execute_result"
    }
   ],
   "source": [
    "### let's review modulo operation - get only remainder\n",
    "\n",
    "'''\n",
    "What's the feature of an even number? - the remainder of equation is \n",
    "zero where the even number divided by 2\n",
    "'''\n",
    "# even num%2 == 0 is True"
   ]
  },
  {
   "cell_type": "code",
   "execution_count": 66,
   "metadata": {
    "collapsed": false
   },
   "outputs": [
    {
     "name": "stdout",
     "output_type": "stream",
     "text": [
      "You're a great even number: 2\n",
      "You're a great even number: 4\n",
      "You're a great even number: 6\n",
      "You're a great even number: 8\n",
      "Wow, why you bad thoug?! you're odd: 9\n",
      "It's okay: 9, one day you'll be gud.\n",
      "You're a great even number: 10\n",
      "Wow, why you bad thoug?! you're odd: 11\n",
      "It's okay: 11, one day you'll be gud.\n",
      "Wow, why you bad thoug?! you're odd: 13\n",
      "It's okay: 13, one day you'll be gud.\n"
     ]
    }
   ],
   "source": [
    "for number in lst0:\n",
    "    \n",
    "    if number%2 != 0:\n",
    "        \n",
    "        print(\"Wow, why you bad thoug?! you're odd: {}\".format(number))\n",
    "        \n",
    "        ### A new way to do String formatting. Python >= 3.6.0 Version\n",
    "        print(f\"It's okay: {number}, one day you'll be gud.\")\n",
    "        \n",
    "    elif number%2 == 0:\n",
    "        \n",
    "        print(\"You're a great even number: {}\".format(number))"
   ]
  },
  {
   "cell_type": "code",
   "execution_count": null,
   "metadata": {
    "collapsed": true
   },
   "outputs": [],
   "source": []
  },
  {
   "cell_type": "markdown",
   "metadata": {},
   "source": [
    "# 3.) Tuple"
   ]
  },
  {
   "cell_type": "code",
   "execution_count": 59,
   "metadata": {
    "collapsed": true
   },
   "outputs": [],
   "source": [
    "# \n",
    "\n",
    "tup = (\"Lu\",\"123\", 123, 5.55555555)"
   ]
  },
  {
   "cell_type": "code",
   "execution_count": 65,
   "metadata": {
    "collapsed": false
   },
   "outputs": [
    {
     "name": "stdout",
     "output_type": "stream",
     "text": [
      "<class 'str'>\n",
      "<class 'str'>\n",
      "<class 'int'>\n"
     ]
    }
   ],
   "source": [
    "'''\n",
    "\n",
    "Remember: Tuple is also a sequence likewise List. So you can \n",
    "also apply a for iteration to a Tuple Object. \n",
    "'''\n",
    "\n",
    "for element in tup:\n",
    "    \n",
    "    print(type(element))"
   ]
  },
  {
   "cell_type": "code",
   "execution_count": null,
   "metadata": {
    "collapsed": true
   },
   "outputs": [],
   "source": []
  },
  {
   "cell_type": "code",
   "execution_count": null,
   "metadata": {
    "collapsed": true
   },
   "outputs": [],
   "source": []
  },
  {
   "cell_type": "code",
   "execution_count": null,
   "metadata": {
    "collapsed": true
   },
   "outputs": [],
   "source": []
  },
  {
   "cell_type": "code",
   "execution_count": null,
   "metadata": {
    "collapsed": true
   },
   "outputs": [],
   "source": []
  },
  {
   "cell_type": "code",
   "execution_count": null,
   "metadata": {
    "collapsed": true
   },
   "outputs": [],
   "source": []
  },
  {
   "cell_type": "code",
   "execution_count": null,
   "metadata": {
    "collapsed": true
   },
   "outputs": [],
   "source": []
  },
  {
   "cell_type": "markdown",
   "metadata": {},
   "source": [
    "# while Loops\n",
    "# The while statement in Python is one of most general ways to perform iteration. A while statement will repeatedly execute a single statement or group of statements as long as the condition is true. \n",
    "\n",
    "The general format of a while loop is:\n",
    "\n",
    "    while sth is true:\n",
    "        do sth here \n",
    "        do more things here\n",
    "    else:\n",
    "        do the final thing here!"
   ]
  },
  {
   "cell_type": "code",
   "execution_count": null,
   "metadata": {
    "collapsed": true
   },
   "outputs": [],
   "source": []
  }
 ],
 "metadata": {
  "kernelspec": {
   "display_name": "Python 3.6",
   "language": "python",
   "name": "python3.6"
  },
  "language_info": {
   "codemirror_mode": {
    "name": "ipython",
    "version": 3
   },
   "file_extension": ".py",
   "mimetype": "text/x-python",
   "name": "python",
   "nbconvert_exporter": "python",
   "pygments_lexer": "ipython3",
   "version": "3.6.0"
  }
 },
 "nbformat": 4,
 "nbformat_minor": 0
}
