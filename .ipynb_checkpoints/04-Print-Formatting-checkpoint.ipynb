{
 "cells": [
  {
   "cell_type": "markdown",
   "metadata": {},
   "source": [
    "#Dynamically Injecting/Inserting characters in a String with print statement"
   ]
  },
  {
   "cell_type": "code",
   "execution_count": 20,
   "metadata": {
    "collapsed": true
   },
   "outputs": [],
   "source": [
    "#### Open your jupyter notebook in your browser"
   ]
  },
  {
   "cell_type": "markdown",
   "metadata": {},
   "source": [
    "# 1 . Formatting with %s (The old way)"
   ]
  },
  {
   "cell_type": "code",
   "execution_count": 9,
   "metadata": {},
   "outputs": [
    {
     "name": "stdout",
     "output_type": "stream",
     "text": [
      "Frank is a boy. \n"
     ]
    }
   ],
   "source": [
    "\n",
    "\n",
    "#### Inserting one string into another string. \n",
    "\n",
    "print(\"%s is a boy. \" % \"Frank\") ### Quotation mark is omitted. "
   ]
  },
  {
   "cell_type": "code",
   "execution_count": 13,
   "metadata": {},
   "outputs": [
    {
     "name": "stdout",
     "output_type": "stream",
     "text": [
      "Frank is a programmer and he's from Langzhong, and he's 23 years old\n"
     ]
    }
   ],
   "source": [
    "###### How to insert multiple strings into another string. \n",
    "print(\"%s is a programmer and he's from %s, and he's %s years old\" \n",
    "      %(\"Frank\", \"Langzhong\", \"23\"))"
   ]
  },
  {
   "cell_type": "code",
   "execution_count": 14,
   "metadata": {
    "collapsed": true
   },
   "outputs": [],
   "source": [
    "####### Inserting string into another string with variable name\n",
    "##### Assigning variables\n",
    "Name = \"Frank\"\n",
    "Hometown = \"Langzhong\"\n",
    "Age = \"23\""
   ]
  },
  {
   "cell_type": "code",
   "execution_count": 15,
   "metadata": {},
   "outputs": [
    {
     "name": "stdout",
     "output_type": "stream",
     "text": [
      "Frank is a programmer and he's from Langzhong, and he's 23 years old\n"
     ]
    }
   ],
   "source": [
    "print(\"%s is a programmer and he's from %s, and he's %s years old\" \n",
    "      %(Name, Hometown, Age))"
   ]
  },
  {
   "cell_type": "markdown",
   "metadata": {},
   "source": [
    "# 2. String dynamic formatting with \".format()\" keyword. "
   ]
  },
  {
   "cell_type": "code",
   "execution_count": 16,
   "metadata": {
    "scrolled": true
   },
   "outputs": [
    {
     "name": "stdout",
     "output_type": "stream",
     "text": [
      "Lu is a cute Girl and she's from Yunnan\n"
     ]
    }
   ],
   "source": [
    "###### Inserting string without variable names\n",
    "print(\"{} is a cute Girl and she's from {}\".format(\"Lu\", \"Yunnan\"))"
   ]
  },
  {
   "cell_type": "code",
   "execution_count": 21,
   "metadata": {},
   "outputs": [
    {
     "name": "stdout",
     "output_type": "stream",
     "text": [
      "Lu is a adorable girl and she's from Yunnan and she likes Ukelele\n"
     ]
    }
   ],
   "source": [
    "####### Inserting multiple/several strings into another string with position flexibility. \n",
    "\n",
    "print(\"{Name} is a adorable girl and she's from {Place} and she likes {What}\".format(\n",
    "        What=\"Ukelele\",Place=\"Yunnan\", Name=\"Lu\"))"
   ]
  },
  {
   "cell_type": "code",
   "execution_count": null,
   "metadata": {
    "collapsed": true
   },
   "outputs": [],
   "source": []
  }
 ],
 "metadata": {
  "kernelspec": {
   "display_name": "Python 3",
   "language": "python",
   "name": "python3"
  },
  "language_info": {
   "codemirror_mode": {
    "name": "ipython",
    "version": 3
   },
   "file_extension": ".py",
   "mimetype": "text/x-python",
   "name": "python",
   "nbconvert_exporter": "python",
   "pygments_lexer": "ipython3",
   "version": "3.6.3"
  }
 },
 "nbformat": 4,
 "nbformat_minor": 2
}
