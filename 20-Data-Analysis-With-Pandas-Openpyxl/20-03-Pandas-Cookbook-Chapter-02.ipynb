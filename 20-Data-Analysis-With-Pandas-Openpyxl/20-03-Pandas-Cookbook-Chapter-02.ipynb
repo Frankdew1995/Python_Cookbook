{
 "cells": [
  {
   "cell_type": "markdown",
   "metadata": {},
   "source": [
    "# 1.) Filter rows of a Pandas DataFrame by one column value"
   ]
  },
  {
   "cell_type": "code",
   "execution_count": 51,
   "metadata": {},
   "outputs": [],
   "source": [
    "import pandas as pd"
   ]
  },
  {
   "cell_type": "code",
   "execution_count": 3,
   "metadata": {},
   "outputs": [],
   "source": [
    "df = pd.read_excel(\"Wusthof.xlsx\", sheet_name=0)"
   ]
  },
  {
   "cell_type": "code",
   "execution_count": 10,
   "metadata": {},
   "outputs": [],
   "source": [
    "#### Filtering rows based on \"Sentiment_index\" - Python For loop\n",
    "### Every pandas series/Column is an iterable. \n",
    "\n",
    "great_indices = []\n",
    "for index in df[\"Sentiment_Index\"]:\n",
    "    if index > 0.5:\n",
    "        great_indices.append(index)"
   ]
  },
  {
   "cell_type": "code",
   "execution_count": 20,
   "metadata": {},
   "outputs": [
    {
     "data": {
      "text/plain": [
       "[0.6613095238095238, 0.5307748822986594, 0.5218680555555556, 0.73125]"
      ]
     },
     "execution_count": 20,
     "metadata": {},
     "output_type": "execute_result"
    }
   ],
   "source": [
    "great_indices[:4]"
   ]
  },
  {
   "cell_type": "markdown",
   "metadata": {},
   "source": [
    " # This filter doesn't modify data source:df"
   ]
  },
  {
   "cell_type": "code",
   "execution_count": 28,
   "metadata": {},
   "outputs": [
    {
     "data": {
      "text/html": [
       "<div>\n",
       "<style scoped>\n",
       "    .dataframe tbody tr th:only-of-type {\n",
       "        vertical-align: middle;\n",
       "    }\n",
       "\n",
       "    .dataframe tbody tr th {\n",
       "        vertical-align: top;\n",
       "    }\n",
       "\n",
       "    .dataframe thead th {\n",
       "        text-align: right;\n",
       "    }\n",
       "</style>\n",
       "<table border=\"1\" class=\"dataframe\">\n",
       "  <thead>\n",
       "    <tr style=\"text-align: right;\">\n",
       "      <th></th>\n",
       "      <th>Name</th>\n",
       "      <th>Price</th>\n",
       "      <th>Comments_Volume</th>\n",
       "      <th>Sentiment_Index</th>\n",
       "      <th>Date</th>\n",
       "      <th>Timestamp</th>\n",
       "      <th>Timedelta</th>\n",
       "      <th>Date_Dashed</th>\n",
       "      <th>Date_Dotted</th>\n",
       "    </tr>\n",
       "  </thead>\n",
       "  <tbody>\n",
       "    <tr>\n",
       "      <th>64</th>\n",
       "      <td>Wusthof Stainless Steel 4 Piece BBQ Set</td>\n",
       "      <td>74.62</td>\n",
       "      <td>4</td>\n",
       "      <td>0.433125</td>\n",
       "      <td>20180518</td>\n",
       "      <td>1526774400</td>\n",
       "      <td>20180518</td>\n",
       "      <td>2018-05-18</td>\n",
       "      <td>20180520.0</td>\n",
       "    </tr>\n",
       "    <tr>\n",
       "      <th>73</th>\n",
       "      <td>Wusthof Ikon 8-Inch Cook's Knife with Blackwoo...</td>\n",
       "      <td>169.9</td>\n",
       "      <td>18</td>\n",
       "      <td>0.409057</td>\n",
       "      <td>20180518</td>\n",
       "      <td>1526774400</td>\n",
       "      <td>20180518</td>\n",
       "      <td>2018-05-18</td>\n",
       "      <td>20180520.0</td>\n",
       "    </tr>\n",
       "    <tr>\n",
       "      <th>75</th>\n",
       "      <td>Wusthof Classic 5\" Hollow Edge Nakiri Knife / ...</td>\n",
       "      <td>109.72</td>\n",
       "      <td>35</td>\n",
       "      <td>0.467785</td>\n",
       "      <td>20180518</td>\n",
       "      <td>1526774400</td>\n",
       "      <td>20180518</td>\n",
       "      <td>2018-05-18</td>\n",
       "      <td>20180520.0</td>\n",
       "    </tr>\n",
       "    <tr>\n",
       "      <th>76</th>\n",
       "      <td>Wusthof Classic 8-Inch Hollow Edge Wunder Knife</td>\n",
       "      <td>79.95</td>\n",
       "      <td>30</td>\n",
       "      <td>0.302622</td>\n",
       "      <td>20180518</td>\n",
       "      <td>1526774400</td>\n",
       "      <td>20180518</td>\n",
       "      <td>2018-05-18</td>\n",
       "      <td>20180520.0</td>\n",
       "    </tr>\n",
       "    <tr>\n",
       "      <th>84</th>\n",
       "      <td>Wusthof Classic Ikon Chef's Set, 3 piece</td>\n",
       "      <td>259.95</td>\n",
       "      <td>8</td>\n",
       "      <td>0.422774</td>\n",
       "      <td>20180518</td>\n",
       "      <td>1526774400</td>\n",
       "      <td>20180518</td>\n",
       "      <td>2018-05-18</td>\n",
       "      <td>20180520.0</td>\n",
       "    </tr>\n",
       "  </tbody>\n",
       "</table>\n",
       "</div>"
      ],
      "text/plain": [
       "                                                 Name   Price  \\\n",
       "64            Wusthof Stainless Steel 4 Piece BBQ Set   74.62   \n",
       "73  Wusthof Ikon 8-Inch Cook's Knife with Blackwoo...   169.9   \n",
       "75  Wusthof Classic 5\" Hollow Edge Nakiri Knife / ...  109.72   \n",
       "76    Wusthof Classic 8-Inch Hollow Edge Wunder Knife   79.95   \n",
       "84           Wusthof Classic Ikon Chef's Set, 3 piece  259.95   \n",
       "\n",
       "    Comments_Volume  Sentiment_Index      Date   Timestamp  Timedelta  \\\n",
       "64                4         0.433125  20180518  1526774400   20180518   \n",
       "73               18         0.409057  20180518  1526774400   20180518   \n",
       "75               35         0.467785  20180518  1526774400   20180518   \n",
       "76               30         0.302622  20180518  1526774400   20180518   \n",
       "84                8         0.422774  20180518  1526774400   20180518   \n",
       "\n",
       "   Date_Dashed  Date_Dotted  \n",
       "64  2018-05-18   20180520.0  \n",
       "73  2018-05-18   20180520.0  \n",
       "75  2018-05-18   20180520.0  \n",
       "76  2018-05-18   20180520.0  \n",
       "84  2018-05-18   20180520.0  "
      ]
     },
     "execution_count": 28,
     "metadata": {},
     "output_type": "execute_result"
    }
   ],
   "source": [
    "### Filter the rows based on Sentiment_INDEX > 0.5 - one single criteria\n",
    "\n",
    "df[df[\"Sentiment_Index\"] > 0.3].head() #### df[df[column_name] > 0.5]"
   ]
  },
  {
   "cell_type": "code",
   "execution_count": 29,
   "metadata": {},
   "outputs": [
    {
     "data": {
      "text/html": [
       "<div>\n",
       "<style scoped>\n",
       "    .dataframe tbody tr th:only-of-type {\n",
       "        vertical-align: middle;\n",
       "    }\n",
       "\n",
       "    .dataframe tbody tr th {\n",
       "        vertical-align: top;\n",
       "    }\n",
       "\n",
       "    .dataframe thead th {\n",
       "        text-align: right;\n",
       "    }\n",
       "</style>\n",
       "<table border=\"1\" class=\"dataframe\">\n",
       "  <thead>\n",
       "    <tr style=\"text-align: right;\">\n",
       "      <th></th>\n",
       "      <th>Name</th>\n",
       "      <th>Price</th>\n",
       "      <th>Comments_Volume</th>\n",
       "      <th>Sentiment_Index</th>\n",
       "      <th>Date</th>\n",
       "      <th>Timestamp</th>\n",
       "      <th>Timedelta</th>\n",
       "      <th>Date_Dashed</th>\n",
       "      <th>Date_Dotted</th>\n",
       "    </tr>\n",
       "  </thead>\n",
       "  <tbody>\n",
       "    <tr>\n",
       "      <th>10</th>\n",
       "      <td>Wüsthof - 2 Stage Hand-Held Sharpener (2922)</td>\n",
       "      <td>19.95</td>\n",
       "      <td>783</td>\n",
       "      <td>0.222105</td>\n",
       "      <td>20180518</td>\n",
       "      <td>1526601600</td>\n",
       "      <td>20180518</td>\n",
       "      <td>2018-05-18</td>\n",
       "      <td>20180518.0</td>\n",
       "    </tr>\n",
       "    <tr>\n",
       "      <th>22</th>\n",
       "      <td>Wüsthof - 2 Stage Hand-Held Sharpener (2922)</td>\n",
       "      <td>19.94</td>\n",
       "      <td>783</td>\n",
       "      <td>0.222105</td>\n",
       "      <td>20180518</td>\n",
       "      <td>1526688000</td>\n",
       "      <td>20180518</td>\n",
       "      <td>2018-05-18</td>\n",
       "      <td>20180519.0</td>\n",
       "    </tr>\n",
       "    <tr>\n",
       "      <th>41</th>\n",
       "      <td>Wüsthof - 2 Stage Hand-Held Sharpener (2922)</td>\n",
       "      <td>19.94</td>\n",
       "      <td>783</td>\n",
       "      <td>0.184697</td>\n",
       "      <td>20180518</td>\n",
       "      <td>1526774400</td>\n",
       "      <td>20180518</td>\n",
       "      <td>2018-05-18</td>\n",
       "      <td>20180520.0</td>\n",
       "    </tr>\n",
       "    <tr>\n",
       "      <th>165</th>\n",
       "      <td>Wusthof 5558-1 Come-Apart Kitchen Shears</td>\n",
       "      <td>19.94</td>\n",
       "      <td>701</td>\n",
       "      <td>0.024987</td>\n",
       "      <td>20180518</td>\n",
       "      <td>1526774400</td>\n",
       "      <td>20180518</td>\n",
       "      <td>2018-05-18</td>\n",
       "      <td>20180520.0</td>\n",
       "    </tr>\n",
       "    <tr>\n",
       "      <th>210</th>\n",
       "      <td>Mercer Culinary Genesis 6-Piece Forged Knife B...</td>\n",
       "      <td>139</td>\n",
       "      <td>811</td>\n",
       "      <td>0.194984</td>\n",
       "      <td>20180518</td>\n",
       "      <td>1526774400</td>\n",
       "      <td>20180518</td>\n",
       "      <td>2018-05-18</td>\n",
       "      <td>20180520.0</td>\n",
       "    </tr>\n",
       "  </tbody>\n",
       "</table>\n",
       "</div>"
      ],
      "text/plain": [
       "                                                  Name  Price  \\\n",
       "10        Wüsthof - 2 Stage Hand-Held Sharpener (2922)  19.95   \n",
       "22        Wüsthof - 2 Stage Hand-Held Sharpener (2922)  19.94   \n",
       "41        Wüsthof - 2 Stage Hand-Held Sharpener (2922)  19.94   \n",
       "165           Wusthof 5558-1 Come-Apart Kitchen Shears  19.94   \n",
       "210  Mercer Culinary Genesis 6-Piece Forged Knife B...    139   \n",
       "\n",
       "     Comments_Volume  Sentiment_Index      Date   Timestamp  Timedelta  \\\n",
       "10               783         0.222105  20180518  1526601600   20180518   \n",
       "22               783         0.222105  20180518  1526688000   20180518   \n",
       "41               783         0.184697  20180518  1526774400   20180518   \n",
       "165              701         0.024987  20180518  1526774400   20180518   \n",
       "210              811         0.194984  20180518  1526774400   20180518   \n",
       "\n",
       "    Date_Dashed  Date_Dotted  \n",
       "10   2018-05-18   20180518.0  \n",
       "22   2018-05-18   20180519.0  \n",
       "41   2018-05-18   20180520.0  \n",
       "165  2018-05-18   20180520.0  \n",
       "210  2018-05-18   20180520.0  "
      ]
     },
     "execution_count": 29,
     "metadata": {},
     "output_type": "execute_result"
    }
   ],
   "source": [
    "df[df[\"Comments_Volume\"]> 700].head()"
   ]
  },
  {
   "cell_type": "markdown",
   "metadata": {},
   "source": [
    "# 2.)  Filter rows of a Pandas DataFrame by multiple column values/ several Criterias."
   ]
  },
  {
   "cell_type": "code",
   "execution_count": 43,
   "metadata": {},
   "outputs": [
    {
     "data": {
      "text/plain": [
       "True"
      ]
     },
     "execution_count": 43,
     "metadata": {},
     "output_type": "execute_result"
    }
   ],
   "source": [
    "(True) or (True)"
   ]
  },
  {
   "cell_type": "code",
   "execution_count": 40,
   "metadata": {},
   "outputs": [
    {
     "data": {
      "text/plain": [
       "False"
      ]
     },
     "execution_count": 40,
     "metadata": {},
     "output_type": "execute_result"
    }
   ],
   "source": [
    "False and False"
   ]
  },
  {
   "cell_type": "markdown",
   "metadata": {},
   "source": [
    "# In a pandas df, Pandas series uses \"&\"(Ampersand) to replce python built-in \"and\" keyword and uses  \"|\" to replace \"or\" from Python-built-in keyword \"or\"."
   ]
  },
  {
   "cell_type": "code",
   "execution_count": 50,
   "metadata": {},
   "outputs": [
    {
     "data": {
      "text/html": [
       "<div>\n",
       "<style scoped>\n",
       "    .dataframe tbody tr th:only-of-type {\n",
       "        vertical-align: middle;\n",
       "    }\n",
       "\n",
       "    .dataframe tbody tr th {\n",
       "        vertical-align: top;\n",
       "    }\n",
       "\n",
       "    .dataframe thead th {\n",
       "        text-align: right;\n",
       "    }\n",
       "</style>\n",
       "<table border=\"1\" class=\"dataframe\">\n",
       "  <thead>\n",
       "    <tr style=\"text-align: right;\">\n",
       "      <th></th>\n",
       "      <th>Name</th>\n",
       "      <th>Price</th>\n",
       "      <th>Comments_Volume</th>\n",
       "      <th>Sentiment_Index</th>\n",
       "      <th>Date</th>\n",
       "      <th>Timestamp</th>\n",
       "      <th>Timedelta</th>\n",
       "      <th>Date_Dashed</th>\n",
       "      <th>Date_Dotted</th>\n",
       "    </tr>\n",
       "  </thead>\n",
       "  <tbody>\n",
       "    <tr>\n",
       "      <th>10</th>\n",
       "      <td>Wüsthof - 2 Stage Hand-Held Sharpener (2922)</td>\n",
       "      <td>19.95</td>\n",
       "      <td>783</td>\n",
       "      <td>0.222105</td>\n",
       "      <td>20180518</td>\n",
       "      <td>1526601600</td>\n",
       "      <td>20180518</td>\n",
       "      <td>2018-05-18</td>\n",
       "      <td>20180518.0</td>\n",
       "    </tr>\n",
       "    <tr>\n",
       "      <th>22</th>\n",
       "      <td>Wüsthof - 2 Stage Hand-Held Sharpener (2922)</td>\n",
       "      <td>19.94</td>\n",
       "      <td>783</td>\n",
       "      <td>0.222105</td>\n",
       "      <td>20180518</td>\n",
       "      <td>1526688000</td>\n",
       "      <td>20180518</td>\n",
       "      <td>2018-05-18</td>\n",
       "      <td>20180519.0</td>\n",
       "    </tr>\n",
       "    <tr>\n",
       "      <th>41</th>\n",
       "      <td>Wüsthof - 2 Stage Hand-Held Sharpener (2922)</td>\n",
       "      <td>19.94</td>\n",
       "      <td>783</td>\n",
       "      <td>0.184697</td>\n",
       "      <td>20180518</td>\n",
       "      <td>1526774400</td>\n",
       "      <td>20180518</td>\n",
       "      <td>2018-05-18</td>\n",
       "      <td>20180520.0</td>\n",
       "    </tr>\n",
       "  </tbody>\n",
       "</table>\n",
       "</div>"
      ],
      "text/plain": [
       "                                            Name  Price  Comments_Volume  \\\n",
       "10  Wüsthof - 2 Stage Hand-Held Sharpener (2922)  19.95              783   \n",
       "22  Wüsthof - 2 Stage Hand-Held Sharpener (2922)  19.94              783   \n",
       "41  Wüsthof - 2 Stage Hand-Held Sharpener (2922)  19.94              783   \n",
       "\n",
       "    Sentiment_Index      Date   Timestamp  Timedelta Date_Dashed  Date_Dotted  \n",
       "10         0.222105  20180518  1526601600   20180518  2018-05-18   20180518.0  \n",
       "22         0.222105  20180518  1526688000   20180518  2018-05-18   20180519.0  \n",
       "41         0.184697  20180518  1526774400   20180518  2018-05-18   20180520.0  "
      ]
     },
     "execution_count": 50,
     "metadata": {},
     "output_type": "execute_result"
    }
   ],
   "source": [
    "#### And Syntax in Pandas Series\n",
    "\n",
    "df[(df[\"Comments_Volume\"] > 700) & (df[\"Sentiment_Index\"] < 0.3)].head(3)\n",
    "\n",
    "### This Returns a view(part of a dataframe - it's mirrored. It's not real self. ) "
   ]
  },
  {
   "cell_type": "code",
   "execution_count": 49,
   "metadata": {},
   "outputs": [
    {
     "data": {
      "text/plain": [
       "(18616, 9)"
      ]
     },
     "execution_count": 49,
     "metadata": {},
     "output_type": "execute_result"
    }
   ],
   "source": [
    "### Or syntax in Pandas series\n",
    "\n",
    "df[(df[\"Comments_Volume\"] > 700) | (df[\"Sentiment_Index\"] < 0.3)].shape"
   ]
  },
  {
   "cell_type": "markdown",
   "metadata": {},
   "source": [
    "# Let's translate this into True/False:\n",
    "\n",
    "# df[(True/False) & (True/False)]\n",
    "\n",
    "# df[(True/False) | (True/False)]\n"
   ]
  },
  {
   "cell_type": "code",
   "execution_count": null,
   "metadata": {},
   "outputs": [],
   "source": []
  }
 ],
 "metadata": {
  "kernelspec": {
   "display_name": "Python 3",
   "language": "python",
   "name": "python3"
  },
  "language_info": {
   "codemirror_mode": {
    "name": "ipython",
    "version": 3
   },
   "file_extension": ".py",
   "mimetype": "text/x-python",
   "name": "python",
   "nbconvert_exporter": "python",
   "pygments_lexer": "ipython3",
   "version": "3.6.5"
  }
 },
 "nbformat": 4,
 "nbformat_minor": 2
}
