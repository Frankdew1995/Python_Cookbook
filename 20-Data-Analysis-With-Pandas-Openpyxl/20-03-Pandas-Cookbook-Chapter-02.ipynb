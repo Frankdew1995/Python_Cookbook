{
 "cells": [
  {
   "cell_type": "markdown",
   "metadata": {},
   "source": [
    "# 1.) Filter rows of a Pandas DataFrame by one column value"
   ]
  },
  {
   "cell_type": "code",
   "execution_count": 1,
   "metadata": {},
   "outputs": [],
   "source": [
    "import pandas as pd"
   ]
  },
  {
   "cell_type": "code",
   "execution_count": 2,
   "metadata": {},
   "outputs": [],
   "source": [
    "df = pd.read_excel(\"Wusthof.xlsx\", sheet_name=0)"
   ]
  },
  {
   "cell_type": "code",
   "execution_count": 3,
   "metadata": {},
   "outputs": [],
   "source": [
    "#### Filtering rows based on \"Sentiment_index\" - Python For loop\n",
    "### Every pandas series/Column is an iterable. \n",
    "\n",
    "great_indices = []\n",
    "for index in df[\"Sentiment_Index\"]:\n",
    "    if index > 0.5:\n",
    "        great_indices.append(index)"
   ]
  },
  {
   "cell_type": "code",
   "execution_count": 4,
   "metadata": {},
   "outputs": [
    {
     "data": {
      "text/plain": [
       "[0.6613095238095238, 0.5307748822986594, 0.5218680555555556, 0.73125]"
      ]
     },
     "execution_count": 4,
     "metadata": {},
     "output_type": "execute_result"
    }
   ],
   "source": [
    "great_indices[:4]"
   ]
  },
  {
   "cell_type": "markdown",
   "metadata": {},
   "source": [
    " # This filter doesn't modify data source:df"
   ]
  },
  {
   "cell_type": "code",
   "execution_count": 5,
   "metadata": {},
   "outputs": [
    {
     "data": {
      "text/html": [
       "<div>\n",
       "<style scoped>\n",
       "    .dataframe tbody tr th:only-of-type {\n",
       "        vertical-align: middle;\n",
       "    }\n",
       "\n",
       "    .dataframe tbody tr th {\n",
       "        vertical-align: top;\n",
       "    }\n",
       "\n",
       "    .dataframe thead th {\n",
       "        text-align: right;\n",
       "    }\n",
       "</style>\n",
       "<table border=\"1\" class=\"dataframe\">\n",
       "  <thead>\n",
       "    <tr style=\"text-align: right;\">\n",
       "      <th></th>\n",
       "      <th>Name</th>\n",
       "      <th>Price</th>\n",
       "      <th>Comments_Volume</th>\n",
       "      <th>Sentiment_Index</th>\n",
       "      <th>Date</th>\n",
       "      <th>Timestamp</th>\n",
       "      <th>Timedelta</th>\n",
       "      <th>Date_Dashed</th>\n",
       "      <th>Date_Dotted</th>\n",
       "    </tr>\n",
       "  </thead>\n",
       "  <tbody>\n",
       "    <tr>\n",
       "      <th>64</th>\n",
       "      <td>Wusthof Stainless Steel 4 Piece BBQ Set</td>\n",
       "      <td>74.62</td>\n",
       "      <td>4</td>\n",
       "      <td>0.433125</td>\n",
       "      <td>20180518</td>\n",
       "      <td>1526774400</td>\n",
       "      <td>20180518</td>\n",
       "      <td>2018-05-18</td>\n",
       "      <td>20180520.0</td>\n",
       "    </tr>\n",
       "    <tr>\n",
       "      <th>73</th>\n",
       "      <td>Wusthof Ikon 8-Inch Cook's Knife with Blackwoo...</td>\n",
       "      <td>169.9</td>\n",
       "      <td>18</td>\n",
       "      <td>0.409057</td>\n",
       "      <td>20180518</td>\n",
       "      <td>1526774400</td>\n",
       "      <td>20180518</td>\n",
       "      <td>2018-05-18</td>\n",
       "      <td>20180520.0</td>\n",
       "    </tr>\n",
       "    <tr>\n",
       "      <th>75</th>\n",
       "      <td>Wusthof Classic 5\" Hollow Edge Nakiri Knife / ...</td>\n",
       "      <td>109.72</td>\n",
       "      <td>35</td>\n",
       "      <td>0.467785</td>\n",
       "      <td>20180518</td>\n",
       "      <td>1526774400</td>\n",
       "      <td>20180518</td>\n",
       "      <td>2018-05-18</td>\n",
       "      <td>20180520.0</td>\n",
       "    </tr>\n",
       "    <tr>\n",
       "      <th>76</th>\n",
       "      <td>Wusthof Classic 8-Inch Hollow Edge Wunder Knife</td>\n",
       "      <td>79.95</td>\n",
       "      <td>30</td>\n",
       "      <td>0.302622</td>\n",
       "      <td>20180518</td>\n",
       "      <td>1526774400</td>\n",
       "      <td>20180518</td>\n",
       "      <td>2018-05-18</td>\n",
       "      <td>20180520.0</td>\n",
       "    </tr>\n",
       "    <tr>\n",
       "      <th>84</th>\n",
       "      <td>Wusthof Classic Ikon Chef's Set, 3 piece</td>\n",
       "      <td>259.95</td>\n",
       "      <td>8</td>\n",
       "      <td>0.422774</td>\n",
       "      <td>20180518</td>\n",
       "      <td>1526774400</td>\n",
       "      <td>20180518</td>\n",
       "      <td>2018-05-18</td>\n",
       "      <td>20180520.0</td>\n",
       "    </tr>\n",
       "  </tbody>\n",
       "</table>\n",
       "</div>"
      ],
      "text/plain": [
       "                                                 Name   Price  \\\n",
       "64            Wusthof Stainless Steel 4 Piece BBQ Set   74.62   \n",
       "73  Wusthof Ikon 8-Inch Cook's Knife with Blackwoo...   169.9   \n",
       "75  Wusthof Classic 5\" Hollow Edge Nakiri Knife / ...  109.72   \n",
       "76    Wusthof Classic 8-Inch Hollow Edge Wunder Knife   79.95   \n",
       "84           Wusthof Classic Ikon Chef's Set, 3 piece  259.95   \n",
       "\n",
       "    Comments_Volume  Sentiment_Index      Date   Timestamp  Timedelta  \\\n",
       "64                4         0.433125  20180518  1526774400   20180518   \n",
       "73               18         0.409057  20180518  1526774400   20180518   \n",
       "75               35         0.467785  20180518  1526774400   20180518   \n",
       "76               30         0.302622  20180518  1526774400   20180518   \n",
       "84                8         0.422774  20180518  1526774400   20180518   \n",
       "\n",
       "   Date_Dashed  Date_Dotted  \n",
       "64  2018-05-18   20180520.0  \n",
       "73  2018-05-18   20180520.0  \n",
       "75  2018-05-18   20180520.0  \n",
       "76  2018-05-18   20180520.0  \n",
       "84  2018-05-18   20180520.0  "
      ]
     },
     "execution_count": 5,
     "metadata": {},
     "output_type": "execute_result"
    }
   ],
   "source": [
    "### Filter the rows based on Sentiment_INDEX > 0.5 - one single criteria\n",
    "\n",
    "df[df[\"Sentiment_Index\"] > 0.3].head() #### df[df[column_name] > 0.5]"
   ]
  },
  {
   "cell_type": "code",
   "execution_count": 6,
   "metadata": {},
   "outputs": [
    {
     "data": {
      "text/html": [
       "<div>\n",
       "<style scoped>\n",
       "    .dataframe tbody tr th:only-of-type {\n",
       "        vertical-align: middle;\n",
       "    }\n",
       "\n",
       "    .dataframe tbody tr th {\n",
       "        vertical-align: top;\n",
       "    }\n",
       "\n",
       "    .dataframe thead th {\n",
       "        text-align: right;\n",
       "    }\n",
       "</style>\n",
       "<table border=\"1\" class=\"dataframe\">\n",
       "  <thead>\n",
       "    <tr style=\"text-align: right;\">\n",
       "      <th></th>\n",
       "      <th>Name</th>\n",
       "      <th>Price</th>\n",
       "      <th>Comments_Volume</th>\n",
       "      <th>Sentiment_Index</th>\n",
       "      <th>Date</th>\n",
       "      <th>Timestamp</th>\n",
       "      <th>Timedelta</th>\n",
       "      <th>Date_Dashed</th>\n",
       "      <th>Date_Dotted</th>\n",
       "    </tr>\n",
       "  </thead>\n",
       "  <tbody>\n",
       "    <tr>\n",
       "      <th>10</th>\n",
       "      <td>Wüsthof - 2 Stage Hand-Held Sharpener (2922)</td>\n",
       "      <td>19.95</td>\n",
       "      <td>783</td>\n",
       "      <td>0.222105</td>\n",
       "      <td>20180518</td>\n",
       "      <td>1526601600</td>\n",
       "      <td>20180518</td>\n",
       "      <td>2018-05-18</td>\n",
       "      <td>20180518.0</td>\n",
       "    </tr>\n",
       "    <tr>\n",
       "      <th>22</th>\n",
       "      <td>Wüsthof - 2 Stage Hand-Held Sharpener (2922)</td>\n",
       "      <td>19.94</td>\n",
       "      <td>783</td>\n",
       "      <td>0.222105</td>\n",
       "      <td>20180518</td>\n",
       "      <td>1526688000</td>\n",
       "      <td>20180518</td>\n",
       "      <td>2018-05-18</td>\n",
       "      <td>20180519.0</td>\n",
       "    </tr>\n",
       "    <tr>\n",
       "      <th>41</th>\n",
       "      <td>Wüsthof - 2 Stage Hand-Held Sharpener (2922)</td>\n",
       "      <td>19.94</td>\n",
       "      <td>783</td>\n",
       "      <td>0.184697</td>\n",
       "      <td>20180518</td>\n",
       "      <td>1526774400</td>\n",
       "      <td>20180518</td>\n",
       "      <td>2018-05-18</td>\n",
       "      <td>20180520.0</td>\n",
       "    </tr>\n",
       "    <tr>\n",
       "      <th>165</th>\n",
       "      <td>Wusthof 5558-1 Come-Apart Kitchen Shears</td>\n",
       "      <td>19.94</td>\n",
       "      <td>701</td>\n",
       "      <td>0.024987</td>\n",
       "      <td>20180518</td>\n",
       "      <td>1526774400</td>\n",
       "      <td>20180518</td>\n",
       "      <td>2018-05-18</td>\n",
       "      <td>20180520.0</td>\n",
       "    </tr>\n",
       "    <tr>\n",
       "      <th>210</th>\n",
       "      <td>Mercer Culinary Genesis 6-Piece Forged Knife B...</td>\n",
       "      <td>139</td>\n",
       "      <td>811</td>\n",
       "      <td>0.194984</td>\n",
       "      <td>20180518</td>\n",
       "      <td>1526774400</td>\n",
       "      <td>20180518</td>\n",
       "      <td>2018-05-18</td>\n",
       "      <td>20180520.0</td>\n",
       "    </tr>\n",
       "  </tbody>\n",
       "</table>\n",
       "</div>"
      ],
      "text/plain": [
       "                                                  Name  Price  \\\n",
       "10        Wüsthof - 2 Stage Hand-Held Sharpener (2922)  19.95   \n",
       "22        Wüsthof - 2 Stage Hand-Held Sharpener (2922)  19.94   \n",
       "41        Wüsthof - 2 Stage Hand-Held Sharpener (2922)  19.94   \n",
       "165           Wusthof 5558-1 Come-Apart Kitchen Shears  19.94   \n",
       "210  Mercer Culinary Genesis 6-Piece Forged Knife B...    139   \n",
       "\n",
       "     Comments_Volume  Sentiment_Index      Date   Timestamp  Timedelta  \\\n",
       "10               783         0.222105  20180518  1526601600   20180518   \n",
       "22               783         0.222105  20180518  1526688000   20180518   \n",
       "41               783         0.184697  20180518  1526774400   20180518   \n",
       "165              701         0.024987  20180518  1526774400   20180518   \n",
       "210              811         0.194984  20180518  1526774400   20180518   \n",
       "\n",
       "    Date_Dashed  Date_Dotted  \n",
       "10   2018-05-18   20180518.0  \n",
       "22   2018-05-18   20180519.0  \n",
       "41   2018-05-18   20180520.0  \n",
       "165  2018-05-18   20180520.0  \n",
       "210  2018-05-18   20180520.0  "
      ]
     },
     "execution_count": 6,
     "metadata": {},
     "output_type": "execute_result"
    }
   ],
   "source": [
    "df[df[\"Comments_Volume\"]> 700].head()"
   ]
  },
  {
   "cell_type": "markdown",
   "metadata": {},
   "source": [
    "# 2.)  Filter rows of a Pandas DataFrame by multiple column values/ several Criterias."
   ]
  },
  {
   "cell_type": "code",
   "execution_count": 7,
   "metadata": {},
   "outputs": [
    {
     "data": {
      "text/plain": [
       "True"
      ]
     },
     "execution_count": 7,
     "metadata": {},
     "output_type": "execute_result"
    }
   ],
   "source": [
    "(True) or (True)"
   ]
  },
  {
   "cell_type": "code",
   "execution_count": 8,
   "metadata": {},
   "outputs": [
    {
     "data": {
      "text/plain": [
       "False"
      ]
     },
     "execution_count": 8,
     "metadata": {},
     "output_type": "execute_result"
    }
   ],
   "source": [
    "False and False"
   ]
  },
  {
   "cell_type": "markdown",
   "metadata": {},
   "source": [
    "# In a pandas df, Pandas series uses \"&\"(Ampersand) to replce python built-in \"and\" keyword and uses  \"|\" to replace \"or\" from Python-built-in keyword \"or\"."
   ]
  },
  {
   "cell_type": "code",
   "execution_count": 9,
   "metadata": {},
   "outputs": [
    {
     "data": {
      "text/html": [
       "<div>\n",
       "<style scoped>\n",
       "    .dataframe tbody tr th:only-of-type {\n",
       "        vertical-align: middle;\n",
       "    }\n",
       "\n",
       "    .dataframe tbody tr th {\n",
       "        vertical-align: top;\n",
       "    }\n",
       "\n",
       "    .dataframe thead th {\n",
       "        text-align: right;\n",
       "    }\n",
       "</style>\n",
       "<table border=\"1\" class=\"dataframe\">\n",
       "  <thead>\n",
       "    <tr style=\"text-align: right;\">\n",
       "      <th></th>\n",
       "      <th>Name</th>\n",
       "      <th>Price</th>\n",
       "      <th>Comments_Volume</th>\n",
       "      <th>Sentiment_Index</th>\n",
       "      <th>Date</th>\n",
       "      <th>Timestamp</th>\n",
       "      <th>Timedelta</th>\n",
       "      <th>Date_Dashed</th>\n",
       "      <th>Date_Dotted</th>\n",
       "    </tr>\n",
       "  </thead>\n",
       "  <tbody>\n",
       "    <tr>\n",
       "      <th>10</th>\n",
       "      <td>Wüsthof - 2 Stage Hand-Held Sharpener (2922)</td>\n",
       "      <td>19.95</td>\n",
       "      <td>783</td>\n",
       "      <td>0.222105</td>\n",
       "      <td>20180518</td>\n",
       "      <td>1526601600</td>\n",
       "      <td>20180518</td>\n",
       "      <td>2018-05-18</td>\n",
       "      <td>20180518.0</td>\n",
       "    </tr>\n",
       "    <tr>\n",
       "      <th>22</th>\n",
       "      <td>Wüsthof - 2 Stage Hand-Held Sharpener (2922)</td>\n",
       "      <td>19.94</td>\n",
       "      <td>783</td>\n",
       "      <td>0.222105</td>\n",
       "      <td>20180518</td>\n",
       "      <td>1526688000</td>\n",
       "      <td>20180518</td>\n",
       "      <td>2018-05-18</td>\n",
       "      <td>20180519.0</td>\n",
       "    </tr>\n",
       "    <tr>\n",
       "      <th>41</th>\n",
       "      <td>Wüsthof - 2 Stage Hand-Held Sharpener (2922)</td>\n",
       "      <td>19.94</td>\n",
       "      <td>783</td>\n",
       "      <td>0.184697</td>\n",
       "      <td>20180518</td>\n",
       "      <td>1526774400</td>\n",
       "      <td>20180518</td>\n",
       "      <td>2018-05-18</td>\n",
       "      <td>20180520.0</td>\n",
       "    </tr>\n",
       "  </tbody>\n",
       "</table>\n",
       "</div>"
      ],
      "text/plain": [
       "                                            Name  Price  Comments_Volume  \\\n",
       "10  Wüsthof - 2 Stage Hand-Held Sharpener (2922)  19.95              783   \n",
       "22  Wüsthof - 2 Stage Hand-Held Sharpener (2922)  19.94              783   \n",
       "41  Wüsthof - 2 Stage Hand-Held Sharpener (2922)  19.94              783   \n",
       "\n",
       "    Sentiment_Index      Date   Timestamp  Timedelta Date_Dashed  Date_Dotted  \n",
       "10         0.222105  20180518  1526601600   20180518  2018-05-18   20180518.0  \n",
       "22         0.222105  20180518  1526688000   20180518  2018-05-18   20180519.0  \n",
       "41         0.184697  20180518  1526774400   20180518  2018-05-18   20180520.0  "
      ]
     },
     "execution_count": 9,
     "metadata": {},
     "output_type": "execute_result"
    }
   ],
   "source": [
    "#### And Syntax in Pandas Series\n",
    "\n",
    "df[(df[\"Comments_Volume\"] > 700) & (df[\"Sentiment_Index\"] < 0.3)].head(3)\n",
    "\n",
    "### This Returns a view(part of a dataframe - it's mirrored. It's not real self. ) "
   ]
  },
  {
   "cell_type": "code",
   "execution_count": 10,
   "metadata": {},
   "outputs": [
    {
     "data": {
      "text/plain": [
       "(18616, 9)"
      ]
     },
     "execution_count": 10,
     "metadata": {},
     "output_type": "execute_result"
    }
   ],
   "source": [
    "### Or syntax in Pandas series\n",
    "\n",
    "df[(df[\"Comments_Volume\"] > 700) | (df[\"Sentiment_Index\"] < 0.3)].shape"
   ]
  },
  {
   "cell_type": "markdown",
   "metadata": {},
   "source": [
    "# Let's translate this into True/False:\n",
    "\n",
    "# df[(True/False) & (True/False)]\n",
    "\n",
    "# df[(True/False) | (True/False)]\n"
   ]
  },
  {
   "cell_type": "markdown",
   "metadata": {},
   "source": [
    "# 3.) Create A New Column/Series in a Pandas Dataframe"
   ]
  },
  {
   "cell_type": "code",
   "execution_count": 11,
   "metadata": {},
   "outputs": [
    {
     "data": {
      "text/html": [
       "<div>\n",
       "<style scoped>\n",
       "    .dataframe tbody tr th:only-of-type {\n",
       "        vertical-align: middle;\n",
       "    }\n",
       "\n",
       "    .dataframe tbody tr th {\n",
       "        vertical-align: top;\n",
       "    }\n",
       "\n",
       "    .dataframe thead th {\n",
       "        text-align: right;\n",
       "    }\n",
       "</style>\n",
       "<table border=\"1\" class=\"dataframe\">\n",
       "  <thead>\n",
       "    <tr style=\"text-align: right;\">\n",
       "      <th></th>\n",
       "      <th>Name</th>\n",
       "      <th>Price</th>\n",
       "      <th>Comments_Volume</th>\n",
       "      <th>Sentiment_Index</th>\n",
       "      <th>Date</th>\n",
       "      <th>Timestamp</th>\n",
       "      <th>Timedelta</th>\n",
       "      <th>Date_Dashed</th>\n",
       "      <th>Date_Dotted</th>\n",
       "    </tr>\n",
       "  </thead>\n",
       "  <tbody>\n",
       "    <tr>\n",
       "      <th>0</th>\n",
       "      <td>Wusthof Classic 8-Inch Chef's Knife</td>\n",
       "      <td>124.97</td>\n",
       "      <td>506</td>\n",
       "      <td>0.222105</td>\n",
       "      <td>20180518</td>\n",
       "      <td>1526601600</td>\n",
       "      <td>20180518</td>\n",
       "      <td>2018-05-18</td>\n",
       "      <td>20180518.0</td>\n",
       "    </tr>\n",
       "    <tr>\n",
       "      <th>1</th>\n",
       "      <td>Wusthof Gourmet 18 Piece Cherry Block Knife Cu...</td>\n",
       "      <td>279.95</td>\n",
       "      <td>27</td>\n",
       "      <td>0.222105</td>\n",
       "      <td>20180518</td>\n",
       "      <td>1526601600</td>\n",
       "      <td>20180518</td>\n",
       "      <td>2018-05-18</td>\n",
       "      <td>20180518.0</td>\n",
       "    </tr>\n",
       "  </tbody>\n",
       "</table>\n",
       "</div>"
      ],
      "text/plain": [
       "                                                Name   Price  Comments_Volume  \\\n",
       "0                Wusthof Classic 8-Inch Chef's Knife  124.97              506   \n",
       "1  Wusthof Gourmet 18 Piece Cherry Block Knife Cu...  279.95               27   \n",
       "\n",
       "   Sentiment_Index      Date   Timestamp  Timedelta Date_Dashed  Date_Dotted  \n",
       "0         0.222105  20180518  1526601600   20180518  2018-05-18   20180518.0  \n",
       "1         0.222105  20180518  1526601600   20180518  2018-05-18   20180518.0  "
      ]
     },
     "execution_count": 11,
     "metadata": {},
     "output_type": "execute_result"
    }
   ],
   "source": [
    "df.head(2)"
   ]
  },
  {
   "cell_type": "markdown",
   "metadata": {},
   "source": [
    "# This is saying: let's grab an empty column/Series from pd.- pandas as pd and give it a column name \"Category\""
   ]
  },
  {
   "cell_type": "code",
   "execution_count": 12,
   "metadata": {},
   "outputs": [],
   "source": [
    "df[\"Category\"] = pd.Series() "
   ]
  },
  {
   "cell_type": "code",
   "execution_count": 13,
   "metadata": {},
   "outputs": [
    {
     "data": {
      "text/plain": [
       "Index(['Name', 'Price', 'Comments_Volume', 'Sentiment_Index', 'Date',\n",
       "       'Timestamp', 'Timedelta', 'Date_Dashed', 'Date_Dotted', 'Category'],\n",
       "      dtype='object')"
      ]
     },
     "execution_count": 13,
     "metadata": {},
     "output_type": "execute_result"
    }
   ],
   "source": [
    "### Note a new column \"Category\" has been created. \n",
    "df.columns"
   ]
  },
  {
   "cell_type": "code",
   "execution_count": 14,
   "metadata": {},
   "outputs": [
    {
     "data": {
      "text/html": [
       "<div>\n",
       "<style scoped>\n",
       "    .dataframe tbody tr th:only-of-type {\n",
       "        vertical-align: middle;\n",
       "    }\n",
       "\n",
       "    .dataframe tbody tr th {\n",
       "        vertical-align: top;\n",
       "    }\n",
       "\n",
       "    .dataframe thead th {\n",
       "        text-align: right;\n",
       "    }\n",
       "</style>\n",
       "<table border=\"1\" class=\"dataframe\">\n",
       "  <thead>\n",
       "    <tr style=\"text-align: right;\">\n",
       "      <th></th>\n",
       "      <th>Name</th>\n",
       "      <th>Price</th>\n",
       "      <th>Comments_Volume</th>\n",
       "      <th>Sentiment_Index</th>\n",
       "      <th>Date</th>\n",
       "      <th>Timestamp</th>\n",
       "      <th>Timedelta</th>\n",
       "      <th>Date_Dashed</th>\n",
       "      <th>Date_Dotted</th>\n",
       "      <th>Category</th>\n",
       "    </tr>\n",
       "  </thead>\n",
       "  <tbody>\n",
       "    <tr>\n",
       "      <th>0</th>\n",
       "      <td>Wusthof Classic 8-Inch Chef's Knife</td>\n",
       "      <td>124.97</td>\n",
       "      <td>506</td>\n",
       "      <td>0.222105</td>\n",
       "      <td>20180518</td>\n",
       "      <td>1526601600</td>\n",
       "      <td>20180518</td>\n",
       "      <td>2018-05-18</td>\n",
       "      <td>20180518.0</td>\n",
       "      <td>NaN</td>\n",
       "    </tr>\n",
       "    <tr>\n",
       "      <th>1</th>\n",
       "      <td>Wusthof Gourmet 18 Piece Cherry Block Knife Cu...</td>\n",
       "      <td>279.95</td>\n",
       "      <td>27</td>\n",
       "      <td>0.222105</td>\n",
       "      <td>20180518</td>\n",
       "      <td>1526601600</td>\n",
       "      <td>20180518</td>\n",
       "      <td>2018-05-18</td>\n",
       "      <td>20180518.0</td>\n",
       "      <td>NaN</td>\n",
       "    </tr>\n",
       "    <tr>\n",
       "      <th>2</th>\n",
       "      <td>Wusthof Classic Ikon 8-Inch Cook's Knife, Black</td>\n",
       "      <td>120.04</td>\n",
       "      <td>323</td>\n",
       "      <td>0.222105</td>\n",
       "      <td>20180518</td>\n",
       "      <td>1526601600</td>\n",
       "      <td>20180518</td>\n",
       "      <td>2018-05-18</td>\n",
       "      <td>20180518.0</td>\n",
       "      <td>NaN</td>\n",
       "    </tr>\n",
       "  </tbody>\n",
       "</table>\n",
       "</div>"
      ],
      "text/plain": [
       "                                                Name   Price  Comments_Volume  \\\n",
       "0                Wusthof Classic 8-Inch Chef's Knife  124.97              506   \n",
       "1  Wusthof Gourmet 18 Piece Cherry Block Knife Cu...  279.95               27   \n",
       "2    Wusthof Classic Ikon 8-Inch Cook's Knife, Black  120.04              323   \n",
       "\n",
       "   Sentiment_Index      Date   Timestamp  Timedelta Date_Dashed  Date_Dotted  \\\n",
       "0         0.222105  20180518  1526601600   20180518  2018-05-18   20180518.0   \n",
       "1         0.222105  20180518  1526601600   20180518  2018-05-18   20180518.0   \n",
       "2         0.222105  20180518  1526601600   20180518  2018-05-18   20180518.0   \n",
       "\n",
       "   Category  \n",
       "0       NaN  \n",
       "1       NaN  \n",
       "2       NaN  "
      ]
     },
     "execution_count": 14,
     "metadata": {},
     "output_type": "execute_result"
    }
   ],
   "source": [
    "df.head(3) ## Return a new column with null values. - Nones. "
   ]
  },
  {
   "cell_type": "code",
   "execution_count": 15,
   "metadata": {},
   "outputs": [
    {
     "name": "stdout",
     "output_type": "stream",
     "text": [
      "(30312, 10)\n"
     ]
    }
   ],
   "source": [
    "\n",
    "rows = df.shape[0] #### this returns the quantity of all rows. why ? Because df.shape is\n",
    "### (rows, columns)\n",
    "print(df.shape)\n",
    "df[\"Category\"] = pd.Series([\"Kitchen\"]*rows)"
   ]
  },
  {
   "cell_type": "code",
   "execution_count": 16,
   "metadata": {},
   "outputs": [
    {
     "data": {
      "text/html": [
       "<div>\n",
       "<style scoped>\n",
       "    .dataframe tbody tr th:only-of-type {\n",
       "        vertical-align: middle;\n",
       "    }\n",
       "\n",
       "    .dataframe tbody tr th {\n",
       "        vertical-align: top;\n",
       "    }\n",
       "\n",
       "    .dataframe thead th {\n",
       "        text-align: right;\n",
       "    }\n",
       "</style>\n",
       "<table border=\"1\" class=\"dataframe\">\n",
       "  <thead>\n",
       "    <tr style=\"text-align: right;\">\n",
       "      <th></th>\n",
       "      <th>Name</th>\n",
       "      <th>Price</th>\n",
       "      <th>Comments_Volume</th>\n",
       "      <th>Sentiment_Index</th>\n",
       "      <th>Date</th>\n",
       "      <th>Timestamp</th>\n",
       "      <th>Timedelta</th>\n",
       "      <th>Date_Dashed</th>\n",
       "      <th>Date_Dotted</th>\n",
       "      <th>Category</th>\n",
       "    </tr>\n",
       "  </thead>\n",
       "  <tbody>\n",
       "    <tr>\n",
       "      <th>0</th>\n",
       "      <td>Wusthof Classic 8-Inch Chef's Knife</td>\n",
       "      <td>124.97</td>\n",
       "      <td>506</td>\n",
       "      <td>0.222105</td>\n",
       "      <td>20180518</td>\n",
       "      <td>1526601600</td>\n",
       "      <td>20180518</td>\n",
       "      <td>2018-05-18</td>\n",
       "      <td>20180518.0</td>\n",
       "      <td>Kitchen</td>\n",
       "    </tr>\n",
       "    <tr>\n",
       "      <th>1</th>\n",
       "      <td>Wusthof Gourmet 18 Piece Cherry Block Knife Cu...</td>\n",
       "      <td>279.95</td>\n",
       "      <td>27</td>\n",
       "      <td>0.222105</td>\n",
       "      <td>20180518</td>\n",
       "      <td>1526601600</td>\n",
       "      <td>20180518</td>\n",
       "      <td>2018-05-18</td>\n",
       "      <td>20180518.0</td>\n",
       "      <td>Kitchen</td>\n",
       "    </tr>\n",
       "    <tr>\n",
       "      <th>2</th>\n",
       "      <td>Wusthof Classic Ikon 8-Inch Cook's Knife, Black</td>\n",
       "      <td>120.04</td>\n",
       "      <td>323</td>\n",
       "      <td>0.222105</td>\n",
       "      <td>20180518</td>\n",
       "      <td>1526601600</td>\n",
       "      <td>20180518</td>\n",
       "      <td>2018-05-18</td>\n",
       "      <td>20180518.0</td>\n",
       "      <td>Kitchen</td>\n",
       "    </tr>\n",
       "  </tbody>\n",
       "</table>\n",
       "</div>"
      ],
      "text/plain": [
       "                                                Name   Price  Comments_Volume  \\\n",
       "0                Wusthof Classic 8-Inch Chef's Knife  124.97              506   \n",
       "1  Wusthof Gourmet 18 Piece Cherry Block Knife Cu...  279.95               27   \n",
       "2    Wusthof Classic Ikon 8-Inch Cook's Knife, Black  120.04              323   \n",
       "\n",
       "   Sentiment_Index      Date   Timestamp  Timedelta Date_Dashed  Date_Dotted  \\\n",
       "0         0.222105  20180518  1526601600   20180518  2018-05-18   20180518.0   \n",
       "1         0.222105  20180518  1526601600   20180518  2018-05-18   20180518.0   \n",
       "2         0.222105  20180518  1526601600   20180518  2018-05-18   20180518.0   \n",
       "\n",
       "  Category  \n",
       "0  Kitchen  \n",
       "1  Kitchen  \n",
       "2  Kitchen  "
      ]
     },
     "execution_count": 16,
     "metadata": {},
     "output_type": "execute_result"
    }
   ],
   "source": [
    "df.head(3)"
   ]
  },
  {
   "cell_type": "code",
   "execution_count": 17,
   "metadata": {},
   "outputs": [
    {
     "data": {
      "text/html": [
       "<div>\n",
       "<style scoped>\n",
       "    .dataframe tbody tr th:only-of-type {\n",
       "        vertical-align: middle;\n",
       "    }\n",
       "\n",
       "    .dataframe tbody tr th {\n",
       "        vertical-align: top;\n",
       "    }\n",
       "\n",
       "    .dataframe thead th {\n",
       "        text-align: right;\n",
       "    }\n",
       "</style>\n",
       "<table border=\"1\" class=\"dataframe\">\n",
       "  <thead>\n",
       "    <tr style=\"text-align: right;\">\n",
       "      <th></th>\n",
       "      <th>Name</th>\n",
       "      <th>Sub-Category</th>\n",
       "    </tr>\n",
       "  </thead>\n",
       "  <tbody>\n",
       "    <tr>\n",
       "      <th>0</th>\n",
       "      <td>Wusthof Classic 8-Inch Chef's Knife</td>\n",
       "      <td>NaN</td>\n",
       "    </tr>\n",
       "    <tr>\n",
       "      <th>1</th>\n",
       "      <td>Wusthof Gourmet 18 Piece Cherry Block Knife Cu...</td>\n",
       "      <td>NaN</td>\n",
       "    </tr>\n",
       "  </tbody>\n",
       "</table>\n",
       "</div>"
      ],
      "text/plain": [
       "                                                Name  Sub-Category\n",
       "0                Wusthof Classic 8-Inch Chef's Knife           NaN\n",
       "1  Wusthof Gourmet 18 Piece Cherry Block Knife Cu...           NaN"
      ]
     },
     "execution_count": 17,
     "metadata": {},
     "output_type": "execute_result"
    }
   ],
   "source": [
    "df[\"Sub-Category\"] = pd.Series()\n",
    "\n",
    "df[[\"Name\", \"Sub-Category\"]].head(2)"
   ]
  },
  {
   "cell_type": "markdown",
   "metadata": {},
   "source": [
    "# 4.) Generate CSV/Excel File From Pandas DF"
   ]
  },
  {
   "cell_type": "code",
   "execution_count": 24,
   "metadata": {},
   "outputs": [
    {
     "name": "stdout",
     "output_type": "stream",
     "text": [
      "Done!\n"
     ]
    }
   ],
   "source": [
    "### Generate an Excel File\n",
    "df.to_excel(\"Wusthof_Update0.xlsx\", index=False) ### Produce a file without df indices\n",
    "print(\"Done!\")"
   ]
  },
  {
   "cell_type": "code",
   "execution_count": 25,
   "metadata": {},
   "outputs": [
    {
     "name": "stdout",
     "output_type": "stream",
     "text": [
      "File is ready\n"
     ]
    }
   ],
   "source": [
    "### Generate a scv file\n",
    "df.to_csv(\"Wusthof_Pandas.csv\")\n",
    "print(\"File is ready\")"
   ]
  },
  {
   "cell_type": "code",
   "execution_count": 30,
   "metadata": {},
   "outputs": [
    {
     "data": {
      "text/html": [
       "<div>\n",
       "<style scoped>\n",
       "    .dataframe tbody tr th:only-of-type {\n",
       "        vertical-align: middle;\n",
       "    }\n",
       "\n",
       "    .dataframe tbody tr th {\n",
       "        vertical-align: top;\n",
       "    }\n",
       "\n",
       "    .dataframe thead th {\n",
       "        text-align: right;\n",
       "    }\n",
       "</style>\n",
       "<table border=\"1\" class=\"dataframe\">\n",
       "  <thead>\n",
       "    <tr style=\"text-align: right;\">\n",
       "      <th></th>\n",
       "      <th>Name</th>\n",
       "      <th>Price</th>\n",
       "      <th>Comments_Volume</th>\n",
       "      <th>Sentiment_Index</th>\n",
       "      <th>Date</th>\n",
       "      <th>Timestamp</th>\n",
       "      <th>Timedelta</th>\n",
       "      <th>Date_Dashed</th>\n",
       "      <th>Date_Dotted</th>\n",
       "      <th>Category</th>\n",
       "      <th>Sub-Category</th>\n",
       "    </tr>\n",
       "  </thead>\n",
       "  <tbody>\n",
       "    <tr>\n",
       "      <th>10</th>\n",
       "      <td>Wüsthof - 2 Stage Hand-Held Sharpener (2922)</td>\n",
       "      <td>19.95</td>\n",
       "      <td>783</td>\n",
       "      <td>0.222105</td>\n",
       "      <td>20180518</td>\n",
       "      <td>1526601600</td>\n",
       "      <td>20180518</td>\n",
       "      <td>2018-05-18</td>\n",
       "      <td>20180518.0</td>\n",
       "      <td>Kitchen</td>\n",
       "      <td>NaN</td>\n",
       "    </tr>\n",
       "    <tr>\n",
       "      <th>22</th>\n",
       "      <td>Wüsthof - 2 Stage Hand-Held Sharpener (2922)</td>\n",
       "      <td>19.94</td>\n",
       "      <td>783</td>\n",
       "      <td>0.222105</td>\n",
       "      <td>20180518</td>\n",
       "      <td>1526688000</td>\n",
       "      <td>20180518</td>\n",
       "      <td>2018-05-18</td>\n",
       "      <td>20180519.0</td>\n",
       "      <td>Kitchen</td>\n",
       "      <td>NaN</td>\n",
       "    </tr>\n",
       "    <tr>\n",
       "      <th>41</th>\n",
       "      <td>Wüsthof - 2 Stage Hand-Held Sharpener (2922)</td>\n",
       "      <td>19.94</td>\n",
       "      <td>783</td>\n",
       "      <td>0.184697</td>\n",
       "      <td>20180518</td>\n",
       "      <td>1526774400</td>\n",
       "      <td>20180518</td>\n",
       "      <td>2018-05-18</td>\n",
       "      <td>20180520.0</td>\n",
       "      <td>Kitchen</td>\n",
       "      <td>NaN</td>\n",
       "    </tr>\n",
       "  </tbody>\n",
       "</table>\n",
       "</div>"
      ],
      "text/plain": [
       "                                            Name  Price  Comments_Volume  \\\n",
       "10  Wüsthof - 2 Stage Hand-Held Sharpener (2922)  19.95              783   \n",
       "22  Wüsthof - 2 Stage Hand-Held Sharpener (2922)  19.94              783   \n",
       "41  Wüsthof - 2 Stage Hand-Held Sharpener (2922)  19.94              783   \n",
       "\n",
       "    Sentiment_Index      Date   Timestamp  Timedelta Date_Dashed  Date_Dotted  \\\n",
       "10         0.222105  20180518  1526601600   20180518  2018-05-18   20180518.0   \n",
       "22         0.222105  20180518  1526688000   20180518  2018-05-18   20180519.0   \n",
       "41         0.184697  20180518  1526774400   20180518  2018-05-18   20180520.0   \n",
       "\n",
       "   Category  Sub-Category  \n",
       "10  Kitchen           NaN  \n",
       "22  Kitchen           NaN  \n",
       "41  Kitchen           NaN  "
      ]
     },
     "execution_count": 30,
     "metadata": {},
     "output_type": "execute_result"
    }
   ],
   "source": [
    "#### Slcing Current DataFrame and create a new excel file\n",
    "\n",
    "\n",
    "new_data = df[df[\"Comments_Volume\"] > 700]\n",
    "new_data.head(3)"
   ]
  },
  {
   "cell_type": "code",
   "execution_count": 31,
   "metadata": {},
   "outputs": [],
   "source": [
    "new_data.to_excel(\"Greatproducts.xlsx\", index=False)"
   ]
  },
  {
   "cell_type": "code",
   "execution_count": null,
   "metadata": {},
   "outputs": [],
   "source": []
  },
  {
   "cell_type": "code",
   "execution_count": null,
   "metadata": {},
   "outputs": [],
   "source": []
  }
 ],
 "metadata": {
  "kernelspec": {
   "display_name": "Python 3",
   "language": "python",
   "name": "python3"
  },
  "language_info": {
   "codemirror_mode": {
    "name": "ipython",
    "version": 3
   },
   "file_extension": ".py",
   "mimetype": "text/x-python",
   "name": "python",
   "nbconvert_exporter": "python",
   "pygments_lexer": "ipython3",
   "version": "3.6.5"
  }
 },
 "nbformat": 4,
 "nbformat_minor": 2
}
