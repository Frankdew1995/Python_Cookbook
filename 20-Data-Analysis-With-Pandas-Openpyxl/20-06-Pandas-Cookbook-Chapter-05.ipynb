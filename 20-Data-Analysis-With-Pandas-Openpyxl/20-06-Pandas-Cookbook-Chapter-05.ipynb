{
 "cells": [
  {
   "cell_type": "code",
   "execution_count": 13,
   "metadata": {},
   "outputs": [],
   "source": [
    "import pandas as pd"
   ]
  },
  {
   "cell_type": "markdown",
   "metadata": {},
   "source": [
    "# 1.) Pandas Series .str.contains(\"Something\") "
   ]
  },
  {
   "cell_type": "code",
   "execution_count": 14,
   "metadata": {},
   "outputs": [],
   "source": [
    "\n",
    "df = pd.read_excel(\"Wusthof.xlsx\", sheet_name=0)"
   ]
  },
  {
   "cell_type": "code",
   "execution_count": 15,
   "metadata": {},
   "outputs": [
    {
     "data": {
      "text/html": [
       "<div>\n",
       "<style scoped>\n",
       "    .dataframe tbody tr th:only-of-type {\n",
       "        vertical-align: middle;\n",
       "    }\n",
       "\n",
       "    .dataframe tbody tr th {\n",
       "        vertical-align: top;\n",
       "    }\n",
       "\n",
       "    .dataframe thead th {\n",
       "        text-align: right;\n",
       "    }\n",
       "</style>\n",
       "<table border=\"1\" class=\"dataframe\">\n",
       "  <thead>\n",
       "    <tr style=\"text-align: right;\">\n",
       "      <th></th>\n",
       "      <th>Name</th>\n",
       "      <th>Price</th>\n",
       "      <th>Comments_Volume</th>\n",
       "      <th>Sentiment_Index</th>\n",
       "      <th>Date</th>\n",
       "      <th>Timestamp</th>\n",
       "      <th>Timedelta</th>\n",
       "      <th>Date_Dashed</th>\n",
       "      <th>Date_Dotted</th>\n",
       "    </tr>\n",
       "  </thead>\n",
       "  <tbody>\n",
       "    <tr>\n",
       "      <th>0</th>\n",
       "      <td>Wusthof Classic 8-Inch Chef's Knife</td>\n",
       "      <td>124.97</td>\n",
       "      <td>506</td>\n",
       "      <td>0.222105</td>\n",
       "      <td>20180518</td>\n",
       "      <td>1526601600</td>\n",
       "      <td>20180518</td>\n",
       "      <td>2018-05-18</td>\n",
       "      <td>20180518.0</td>\n",
       "    </tr>\n",
       "    <tr>\n",
       "      <th>1</th>\n",
       "      <td>Wusthof Gourmet 18 Piece Cherry Block Knife Cu...</td>\n",
       "      <td>279.95</td>\n",
       "      <td>27</td>\n",
       "      <td>0.222105</td>\n",
       "      <td>20180518</td>\n",
       "      <td>1526601600</td>\n",
       "      <td>20180518</td>\n",
       "      <td>2018-05-18</td>\n",
       "      <td>20180518.0</td>\n",
       "    </tr>\n",
       "  </tbody>\n",
       "</table>\n",
       "</div>"
      ],
      "text/plain": [
       "                                                Name   Price  Comments_Volume  \\\n",
       "0                Wusthof Classic 8-Inch Chef's Knife  124.97              506   \n",
       "1  Wusthof Gourmet 18 Piece Cherry Block Knife Cu...  279.95               27   \n",
       "\n",
       "   Sentiment_Index      Date   Timestamp  Timedelta Date_Dashed  Date_Dotted  \n",
       "0         0.222105  20180518  1526601600   20180518  2018-05-18   20180518.0  \n",
       "1         0.222105  20180518  1526601600   20180518  2018-05-18   20180518.0  "
      ]
     },
     "execution_count": 15,
     "metadata": {},
     "output_type": "execute_result"
    }
   ],
   "source": [
    "df.head(2)"
   ]
  },
  {
   "cell_type": "code",
   "execution_count": 16,
   "metadata": {},
   "outputs": [
    {
     "data": {
      "text/plain": [
       "0    True\n",
       "1    True\n",
       "2    True\n",
       "Name: Name, dtype: bool"
      ]
     },
     "execution_count": 16,
     "metadata": {},
     "output_type": "execute_result"
    }
   ],
   "source": [
    "df[\"Name\"].str.contains(\"Knife\" or \"knife\").head(3) ## This returns a Series of Boolean values. "
   ]
  },
  {
   "cell_type": "markdown",
   "metadata": {},
   "source": [
    "# This returns a dataframe, Series \"Name\" of which contains \"Knife\" or \"knife\""
   ]
  },
  {
   "cell_type": "code",
   "execution_count": 17,
   "metadata": {},
   "outputs": [],
   "source": [
    "dff = df[df[\"Name\"].str.contains(\"Knife\" or \"knife\")].copy()\n",
    "rows = dff.shape[0]"
   ]
  },
  {
   "cell_type": "code",
   "execution_count": 18,
   "metadata": {},
   "outputs": [],
   "source": [
    "dff[\"Sub-Category\"] = pd.Series([\"Knife\"]*rows)"
   ]
  },
  {
   "cell_type": "code",
   "execution_count": 19,
   "metadata": {},
   "outputs": [
    {
     "data": {
      "text/html": [
       "<div>\n",
       "<style scoped>\n",
       "    .dataframe tbody tr th:only-of-type {\n",
       "        vertical-align: middle;\n",
       "    }\n",
       "\n",
       "    .dataframe tbody tr th {\n",
       "        vertical-align: top;\n",
       "    }\n",
       "\n",
       "    .dataframe thead th {\n",
       "        text-align: right;\n",
       "    }\n",
       "</style>\n",
       "<table border=\"1\" class=\"dataframe\">\n",
       "  <thead>\n",
       "    <tr style=\"text-align: right;\">\n",
       "      <th></th>\n",
       "      <th>Name</th>\n",
       "      <th>Price</th>\n",
       "      <th>Comments_Volume</th>\n",
       "      <th>Sentiment_Index</th>\n",
       "      <th>Date</th>\n",
       "      <th>Timestamp</th>\n",
       "      <th>Timedelta</th>\n",
       "      <th>Date_Dashed</th>\n",
       "      <th>Date_Dotted</th>\n",
       "      <th>Sub-Category</th>\n",
       "    </tr>\n",
       "  </thead>\n",
       "  <tbody>\n",
       "    <tr>\n",
       "      <th>0</th>\n",
       "      <td>Wusthof Classic 8-Inch Chef's Knife</td>\n",
       "      <td>124.97</td>\n",
       "      <td>506</td>\n",
       "      <td>0.222105</td>\n",
       "      <td>20180518</td>\n",
       "      <td>1526601600</td>\n",
       "      <td>20180518</td>\n",
       "      <td>2018-05-18</td>\n",
       "      <td>20180518.0</td>\n",
       "      <td>Knife</td>\n",
       "    </tr>\n",
       "    <tr>\n",
       "      <th>1</th>\n",
       "      <td>Wusthof Gourmet 18 Piece Cherry Block Knife Cu...</td>\n",
       "      <td>279.95</td>\n",
       "      <td>27</td>\n",
       "      <td>0.222105</td>\n",
       "      <td>20180518</td>\n",
       "      <td>1526601600</td>\n",
       "      <td>20180518</td>\n",
       "      <td>2018-05-18</td>\n",
       "      <td>20180518.0</td>\n",
       "      <td>Knife</td>\n",
       "    </tr>\n",
       "    <tr>\n",
       "      <th>2</th>\n",
       "      <td>Wusthof Classic Ikon 8-Inch Cook's Knife, Black</td>\n",
       "      <td>120.04</td>\n",
       "      <td>323</td>\n",
       "      <td>0.222105</td>\n",
       "      <td>20180518</td>\n",
       "      <td>1526601600</td>\n",
       "      <td>20180518</td>\n",
       "      <td>2018-05-18</td>\n",
       "      <td>20180518.0</td>\n",
       "      <td>Knife</td>\n",
       "    </tr>\n",
       "    <tr>\n",
       "      <th>3</th>\n",
       "      <td>Wusthof 4183-7 Wusthof Classic 7-Inch Santoku ...</td>\n",
       "      <td>104.94</td>\n",
       "      <td>436</td>\n",
       "      <td>0.222105</td>\n",
       "      <td>20180518</td>\n",
       "      <td>1526601600</td>\n",
       "      <td>20180518</td>\n",
       "      <td>2018-05-18</td>\n",
       "      <td>20180518.0</td>\n",
       "      <td>Knife</td>\n",
       "    </tr>\n",
       "    <tr>\n",
       "      <th>4</th>\n",
       "      <td>Wüsthof - 10\" Knife Sharpening Steel with Loop</td>\n",
       "      <td>24.95</td>\n",
       "      <td>364</td>\n",
       "      <td>0.222105</td>\n",
       "      <td>20180518</td>\n",
       "      <td>1526601600</td>\n",
       "      <td>20180518</td>\n",
       "      <td>2018-05-18</td>\n",
       "      <td>20180518.0</td>\n",
       "      <td>Knife</td>\n",
       "    </tr>\n",
       "  </tbody>\n",
       "</table>\n",
       "</div>"
      ],
      "text/plain": [
       "                                                Name   Price  Comments_Volume  \\\n",
       "0                Wusthof Classic 8-Inch Chef's Knife  124.97              506   \n",
       "1  Wusthof Gourmet 18 Piece Cherry Block Knife Cu...  279.95               27   \n",
       "2    Wusthof Classic Ikon 8-Inch Cook's Knife, Black  120.04              323   \n",
       "3  Wusthof 4183-7 Wusthof Classic 7-Inch Santoku ...  104.94              436   \n",
       "4     Wüsthof - 10\" Knife Sharpening Steel with Loop   24.95              364   \n",
       "\n",
       "   Sentiment_Index      Date   Timestamp  Timedelta Date_Dashed  Date_Dotted  \\\n",
       "0         0.222105  20180518  1526601600   20180518  2018-05-18   20180518.0   \n",
       "1         0.222105  20180518  1526601600   20180518  2018-05-18   20180518.0   \n",
       "2         0.222105  20180518  1526601600   20180518  2018-05-18   20180518.0   \n",
       "3         0.222105  20180518  1526601600   20180518  2018-05-18   20180518.0   \n",
       "4         0.222105  20180518  1526601600   20180518  2018-05-18   20180518.0   \n",
       "\n",
       "  Sub-Category  \n",
       "0        Knife  \n",
       "1        Knife  \n",
       "2        Knife  \n",
       "3        Knife  \n",
       "4        Knife  "
      ]
     },
     "execution_count": 19,
     "metadata": {},
     "output_type": "execute_result"
    }
   ],
   "source": [
    "dff.head()"
   ]
  },
  {
   "cell_type": "code",
   "execution_count": null,
   "metadata": {},
   "outputs": [],
   "source": []
  },
  {
   "cell_type": "code",
   "execution_count": null,
   "metadata": {},
   "outputs": [],
   "source": []
  },
  {
   "cell_type": "code",
   "execution_count": null,
   "metadata": {},
   "outputs": [],
   "source": []
  }
 ],
 "metadata": {
  "kernelspec": {
   "display_name": "Python 3",
   "language": "python",
   "name": "python3"
  },
  "language_info": {
   "codemirror_mode": {
    "name": "ipython",
    "version": 3
   },
   "file_extension": ".py",
   "mimetype": "text/x-python",
   "name": "python",
   "nbconvert_exporter": "python",
   "pygments_lexer": "ipython3",
   "version": "3.6.5"
  }
 },
 "nbformat": 4,
 "nbformat_minor": 2
}
