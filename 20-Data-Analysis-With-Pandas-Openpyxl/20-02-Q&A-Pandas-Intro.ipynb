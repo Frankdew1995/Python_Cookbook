{
 "cells": [
  {
   "cell_type": "code",
   "execution_count": 73,
   "metadata": {},
   "outputs": [],
   "source": [
    "import pandas as pd"
   ]
  },
  {
   "cell_type": "markdown",
   "metadata": {},
   "source": [
    "# 1.) sheet_name - Check which sheets are available"
   ]
  },
  {
   "cell_type": "code",
   "execution_count": 74,
   "metadata": {},
   "outputs": [],
   "source": [
    "#### Give a ExcelFile Object Name\n",
    "file = pd.ExcelFile(\"Wusthof.xlsx\")"
   ]
  },
  {
   "cell_type": "code",
   "execution_count": 75,
   "metadata": {},
   "outputs": [
    {
     "data": {
      "text/plain": [
       "['Sheet1', 'Sheet2', 'Zh', 'Img', 'iPhone']"
      ]
     },
     "execution_count": 75,
     "metadata": {},
     "output_type": "execute_result"
    }
   ],
   "source": [
    "### get all sheet names\n",
    "file.sheet_names"
   ]
  },
  {
   "cell_type": "code",
   "execution_count": 76,
   "metadata": {},
   "outputs": [],
   "source": [
    "df = pd.read_excel(\"Wusthof.xlsx\", sheet_name=2)"
   ]
  },
  {
   "cell_type": "code",
   "execution_count": 77,
   "metadata": {},
   "outputs": [
    {
     "data": {
      "text/html": [
       "<div>\n",
       "<style scoped>\n",
       "    .dataframe tbody tr th:only-of-type {\n",
       "        vertical-align: middle;\n",
       "    }\n",
       "\n",
       "    .dataframe tbody tr th {\n",
       "        vertical-align: top;\n",
       "    }\n",
       "\n",
       "    .dataframe thead th {\n",
       "        text-align: right;\n",
       "    }\n",
       "</style>\n",
       "<table border=\"1\" class=\"dataframe\">\n",
       "  <thead>\n",
       "    <tr style=\"text-align: right;\">\n",
       "      <th></th>\n",
       "      <th>产品名称</th>\n",
       "      <th>价格</th>\n",
       "      <th>评论数</th>\n",
       "      <th>情感指数</th>\n",
       "      <th>日期</th>\n",
       "      <th>时间戳</th>\n",
       "      <th>时间值</th>\n",
       "      <th>日期字符串</th>\n",
       "      <th>日期点</th>\n",
       "    </tr>\n",
       "  </thead>\n",
       "  <tbody>\n",
       "    <tr>\n",
       "      <th>0</th>\n",
       "      <td>Wusthof Classic 8-Inch Chef's Knife</td>\n",
       "      <td>124.97</td>\n",
       "      <td>506</td>\n",
       "      <td>0.222105</td>\n",
       "      <td>20180518</td>\n",
       "      <td>1526601600</td>\n",
       "      <td>20180518</td>\n",
       "      <td>2018-05-18</td>\n",
       "      <td>20180518.0</td>\n",
       "    </tr>\n",
       "    <tr>\n",
       "      <th>1</th>\n",
       "      <td>Wusthof Gourmet 18 Piece Cherry Block Knife Cu...</td>\n",
       "      <td>279.95</td>\n",
       "      <td>27</td>\n",
       "      <td>0.222105</td>\n",
       "      <td>20180518</td>\n",
       "      <td>1526601600</td>\n",
       "      <td>20180518</td>\n",
       "      <td>2018-05-18</td>\n",
       "      <td>20180518.0</td>\n",
       "    </tr>\n",
       "    <tr>\n",
       "      <th>2</th>\n",
       "      <td>Wusthof Classic Ikon 8-Inch Cook's Knife, Black</td>\n",
       "      <td>120.04</td>\n",
       "      <td>323</td>\n",
       "      <td>0.222105</td>\n",
       "      <td>20180518</td>\n",
       "      <td>1526601600</td>\n",
       "      <td>20180518</td>\n",
       "      <td>2018-05-18</td>\n",
       "      <td>20180518.0</td>\n",
       "    </tr>\n",
       "    <tr>\n",
       "      <th>3</th>\n",
       "      <td>Wusthof 4183-7 Wusthof Classic 7-Inch Santoku ...</td>\n",
       "      <td>104.94</td>\n",
       "      <td>436</td>\n",
       "      <td>0.222105</td>\n",
       "      <td>20180518</td>\n",
       "      <td>1526601600</td>\n",
       "      <td>20180518</td>\n",
       "      <td>2018-05-18</td>\n",
       "      <td>20180518.0</td>\n",
       "    </tr>\n",
       "    <tr>\n",
       "      <th>4</th>\n",
       "      <td>Wüsthof - 10\" Knife Sharpening Steel with Loop</td>\n",
       "      <td>24.95</td>\n",
       "      <td>364</td>\n",
       "      <td>0.222105</td>\n",
       "      <td>20180518</td>\n",
       "      <td>1526601600</td>\n",
       "      <td>20180518</td>\n",
       "      <td>2018-05-18</td>\n",
       "      <td>20180518.0</td>\n",
       "    </tr>\n",
       "  </tbody>\n",
       "</table>\n",
       "</div>"
      ],
      "text/plain": [
       "                                                产品名称      价格  评论数      情感指数  \\\n",
       "0                Wusthof Classic 8-Inch Chef's Knife  124.97  506  0.222105   \n",
       "1  Wusthof Gourmet 18 Piece Cherry Block Knife Cu...  279.95   27  0.222105   \n",
       "2    Wusthof Classic Ikon 8-Inch Cook's Knife, Black  120.04  323  0.222105   \n",
       "3  Wusthof 4183-7 Wusthof Classic 7-Inch Santoku ...  104.94  436  0.222105   \n",
       "4     Wüsthof - 10\" Knife Sharpening Steel with Loop   24.95  364  0.222105   \n",
       "\n",
       "         日期         时间戳       时间值       日期字符串         日期点  \n",
       "0  20180518  1526601600  20180518  2018-05-18  20180518.0  \n",
       "1  20180518  1526601600  20180518  2018-05-18  20180518.0  \n",
       "2  20180518  1526601600  20180518  2018-05-18  20180518.0  \n",
       "3  20180518  1526601600  20180518  2018-05-18  20180518.0  \n",
       "4  20180518  1526601600  20180518  2018-05-18  20180518.0  "
      ]
     },
     "execution_count": 77,
     "metadata": {},
     "output_type": "execute_result"
    }
   ],
   "source": [
    "df.head()"
   ]
  },
  {
   "cell_type": "markdown",
   "metadata": {},
   "source": [
    "# 2.) Check Columns and Row Indices. "
   ]
  },
  {
   "cell_type": "code",
   "execution_count": 78,
   "metadata": {},
   "outputs": [
    {
     "name": "stdout",
     "output_type": "stream",
     "text": [
      "['产品名称', '价格', '评论数', '情感指数', '日期', '时间戳', '时间值', '日期字符串', '日期点']\n",
      "['产品名称', '价格', '评论数', '情感指数', '日期', '时间戳', '时间值', '日期字符串', '日期点']\n"
     ]
    }
   ],
   "source": [
    "### Check Columns Names\n",
    "print(list(df.columns))\n",
    "\n",
    "print(df.columns.tolist())\n",
    "\n"
   ]
  },
  {
   "cell_type": "code",
   "execution_count": 79,
   "metadata": {},
   "outputs": [
    {
     "data": {
      "text/plain": [
       "[0, 1, 2, 3, 4, 5]"
      ]
     },
     "execution_count": 79,
     "metadata": {},
     "output_type": "execute_result"
    }
   ],
   "source": [
    "### Row Indices. \n",
    "list(df.index)[:6]"
   ]
  },
  {
   "cell_type": "markdown",
   "metadata": {},
   "source": [
    "# 3.) Why Sometimes df.rename() method requires index=str and sometimes index=int? \n",
    "\n",
    "# This depends on the data type of the column names to be changed. Eg. the column names' data type is string: you use index=str. Were the data type to be integer, then we say index=int."
   ]
  },
  {
   "cell_type": "code",
   "execution_count": 80,
   "metadata": {},
   "outputs": [],
   "source": [
    "from openpyxl import load_workbook"
   ]
  },
  {
   "cell_type": "code",
   "execution_count": 81,
   "metadata": {},
   "outputs": [],
   "source": [
    "# If you continue to operate with Openpyxl, you will indeed change the source excel file.\n",
    "book = load_workbook(\"Products_Merge_Pandas.xlsx\" ,data_only=True)\n",
    "sheet = book[\"Source\"]"
   ]
  },
  {
   "cell_type": "code",
   "execution_count": 82,
   "metadata": {},
   "outputs": [],
   "source": [
    "# Transfer the operating session to pandas Again - You'll no longer modify the source excel file. Cool.\n",
    "\n",
    "dff = pd.DataFrame(sheet.values)"
   ]
  },
  {
   "cell_type": "code",
   "execution_count": 83,
   "metadata": {},
   "outputs": [
    {
     "data": {
      "text/html": [
       "<div>\n",
       "<style scoped>\n",
       "    .dataframe tbody tr th:only-of-type {\n",
       "        vertical-align: middle;\n",
       "    }\n",
       "\n",
       "    .dataframe tbody tr th {\n",
       "        vertical-align: top;\n",
       "    }\n",
       "\n",
       "    .dataframe thead th {\n",
       "        text-align: right;\n",
       "    }\n",
       "</style>\n",
       "<table border=\"1\" class=\"dataframe\">\n",
       "  <thead>\n",
       "    <tr style=\"text-align: right;\">\n",
       "      <th></th>\n",
       "      <th>0</th>\n",
       "      <th>1</th>\n",
       "      <th>2</th>\n",
       "      <th>3</th>\n",
       "      <th>4</th>\n",
       "      <th>5</th>\n",
       "      <th>6</th>\n",
       "      <th>7</th>\n",
       "    </tr>\n",
       "  </thead>\n",
       "  <tbody>\n",
       "    <tr>\n",
       "      <th>0</th>\n",
       "      <td>Artikel / Name</td>\n",
       "      <td>DAN / Supplier Item Number</td>\n",
       "      <td>EAN</td>\n",
       "      <td>Warenbereich / Product Group</td>\n",
       "      <td>VKP / Price</td>\n",
       "      <td>Stück pro Palette / pieces per pallet</td>\n",
       "      <td>Paletten Höhe / pallet hight</td>\n",
       "      <td>Pricy or cheap</td>\n",
       "    </tr>\n",
       "    <tr>\n",
       "      <th>1</th>\n",
       "      <td>Alete 10M Grießbrei Keks          4x100g</td>\n",
       "      <td>507901</td>\n",
       "      <td>4.2511e+12</td>\n",
       "      <td>Babyglas &amp; Zwischenverzehr</td>\n",
       "      <td>1.55</td>\n",
       "      <td>864</td>\n",
       "      <td>1046</td>\n",
       "      <td>Cheap</td>\n",
       "    </tr>\n",
       "  </tbody>\n",
       "</table>\n",
       "</div>"
      ],
      "text/plain": [
       "                                          0                           1  \\\n",
       "0                            Artikel / Name  DAN / Supplier Item Number   \n",
       "1  Alete 10M Grießbrei Keks          4x100g                      507901   \n",
       "\n",
       "            2                             3            4  \\\n",
       "0         EAN  Warenbereich / Product Group  VKP / Price   \n",
       "1  4.2511e+12    Babyglas & Zwischenverzehr         1.55   \n",
       "\n",
       "                                       5                             6  \\\n",
       "0  Stück pro Palette / pieces per pallet  Paletten Höhe / pallet hight   \n",
       "1                                    864                          1046   \n",
       "\n",
       "                7  \n",
       "0  Pricy or cheap  \n",
       "1           Cheap  "
      ]
     },
     "execution_count": 83,
     "metadata": {},
     "output_type": "execute_result"
    }
   ],
   "source": [
    "dff.head(2) # The data type of the column index  is integer. "
   ]
  },
  {
   "cell_type": "code",
   "execution_count": 84,
   "metadata": {},
   "outputs": [],
   "source": [
    "new_cols = dff.iloc[0, :].values.tolist() ### Listify the new columns"
   ]
  },
  {
   "cell_type": "code",
   "execution_count": 85,
   "metadata": {},
   "outputs": [],
   "source": [
    "cols = dff.columns.tolist() ### Listify the old columns. "
   ]
  },
  {
   "cell_type": "markdown",
   "metadata": {},
   "source": [
    "# Note! !! So we use index=int"
   ]
  },
  {
   "cell_type": "code",
   "execution_count": 86,
   "metadata": {},
   "outputs": [],
   "source": [
    "dff.rename(index=int, columns=dict(zip(cols, new_cols)), inplace=True)"
   ]
  },
  {
   "cell_type": "code",
   "execution_count": 87,
   "metadata": {},
   "outputs": [],
   "source": [
    "dff = dff.iloc[1:, :]"
   ]
  },
  {
   "cell_type": "code",
   "execution_count": 88,
   "metadata": {},
   "outputs": [
    {
     "data": {
      "text/html": [
       "<div>\n",
       "<style scoped>\n",
       "    .dataframe tbody tr th:only-of-type {\n",
       "        vertical-align: middle;\n",
       "    }\n",
       "\n",
       "    .dataframe tbody tr th {\n",
       "        vertical-align: top;\n",
       "    }\n",
       "\n",
       "    .dataframe thead th {\n",
       "        text-align: right;\n",
       "    }\n",
       "</style>\n",
       "<table border=\"1\" class=\"dataframe\">\n",
       "  <thead>\n",
       "    <tr style=\"text-align: right;\">\n",
       "      <th></th>\n",
       "      <th>Artikel / Name</th>\n",
       "      <th>DAN / Supplier Item Number</th>\n",
       "      <th>EAN</th>\n",
       "      <th>Warenbereich / Product Group</th>\n",
       "      <th>VKP / Price</th>\n",
       "      <th>Stück pro Palette / pieces per pallet</th>\n",
       "      <th>Paletten Höhe / pallet hight</th>\n",
       "      <th>Pricy or cheap</th>\n",
       "    </tr>\n",
       "  </thead>\n",
       "  <tbody>\n",
       "    <tr>\n",
       "      <th>1</th>\n",
       "      <td>Alete 10M Grießbrei Keks          4x100g</td>\n",
       "      <td>507901</td>\n",
       "      <td>4.2511e+12</td>\n",
       "      <td>Babyglas &amp; Zwischenverzehr</td>\n",
       "      <td>1.55</td>\n",
       "      <td>864</td>\n",
       "      <td>1046</td>\n",
       "      <td>Cheap</td>\n",
       "    </tr>\n",
       "    <tr>\n",
       "      <th>2</th>\n",
       "      <td>Alete 10M Grießbrei Vanille       4x100g</td>\n",
       "      <td>507879</td>\n",
       "      <td>4.2511e+12</td>\n",
       "      <td>Babyglas &amp; Zwischenverzehr</td>\n",
       "      <td>1.55</td>\n",
       "      <td>864</td>\n",
       "      <td>1270</td>\n",
       "      <td>Cheap</td>\n",
       "    </tr>\n",
       "    <tr>\n",
       "      <th>3</th>\n",
       "      <td>Alete 10M Joghurt   Erdbeere      4x100g</td>\n",
       "      <td>507894</td>\n",
       "      <td>4.2511e+12</td>\n",
       "      <td>Babyglas &amp; Zwischenverzehr</td>\n",
       "      <td>1.55</td>\n",
       "      <td>864</td>\n",
       "      <td>1270</td>\n",
       "      <td>Cheap</td>\n",
       "    </tr>\n",
       "  </tbody>\n",
       "</table>\n",
       "</div>"
      ],
      "text/plain": [
       "                             Artikel / Name DAN / Supplier Item Number  \\\n",
       "1  Alete 10M Grießbrei Keks          4x100g                     507901   \n",
       "2  Alete 10M Grießbrei Vanille       4x100g                     507879   \n",
       "3  Alete 10M Joghurt   Erdbeere      4x100g                     507894   \n",
       "\n",
       "          EAN Warenbereich / Product Group VKP / Price  \\\n",
       "1  4.2511e+12   Babyglas & Zwischenverzehr        1.55   \n",
       "2  4.2511e+12   Babyglas & Zwischenverzehr        1.55   \n",
       "3  4.2511e+12   Babyglas & Zwischenverzehr        1.55   \n",
       "\n",
       "  Stück pro Palette / pieces per pallet Paletten Höhe / pallet hight  \\\n",
       "1                                   864                         1046   \n",
       "2                                   864                         1270   \n",
       "3                                   864                         1270   \n",
       "\n",
       "  Pricy or cheap  \n",
       "1          Cheap  \n",
       "2          Cheap  \n",
       "3          Cheap  "
      ]
     },
     "execution_count": 88,
     "metadata": {},
     "output_type": "execute_result"
    }
   ],
   "source": [
    "dff.head(3)"
   ]
  },
  {
   "cell_type": "code",
   "execution_count": 89,
   "metadata": {},
   "outputs": [
    {
     "data": {
      "text/plain": [
       "[(0, 'Artikel / Name'),\n",
       " (1, 'DAN / Supplier Item Number'),\n",
       " (2, 'EAN'),\n",
       " (3, 'Warenbereich / Product Group'),\n",
       " (4, 'VKP / Price'),\n",
       " (5, 'Stück pro Palette / pieces per pallet'),\n",
       " (6, 'Paletten Höhe / pallet hight'),\n",
       " (7, 'Pricy or cheap')]"
      ]
     },
     "execution_count": 89,
     "metadata": {},
     "output_type": "execute_result"
    }
   ],
   "source": [
    "list(zip(cols, new_cols))"
   ]
  },
  {
   "cell_type": "code",
   "execution_count": 90,
   "metadata": {},
   "outputs": [
    {
     "data": {
      "text/plain": [
       "{0: 'Artikel / Name',\n",
       " 1: 'DAN / Supplier Item Number',\n",
       " 2: 'EAN',\n",
       " 3: 'Warenbereich / Product Group',\n",
       " 4: 'VKP / Price',\n",
       " 5: 'Stück pro Palette / pieces per pallet',\n",
       " 6: 'Paletten Höhe / pallet hight',\n",
       " 7: 'Pricy or cheap'}"
      ]
     },
     "execution_count": 90,
     "metadata": {},
     "output_type": "execute_result"
    }
   ],
   "source": [
    "dict(zip(cols, new_cols))"
   ]
  },
  {
   "cell_type": "code",
   "execution_count": 91,
   "metadata": {},
   "outputs": [],
   "source": [
    "dic = dict(name=\"Lu\")"
   ]
  },
  {
   "cell_type": "code",
   "execution_count": 92,
   "metadata": {},
   "outputs": [
    {
     "data": {
      "text/plain": [
       "{'name': 'Lu'}"
      ]
     },
     "execution_count": 92,
     "metadata": {},
     "output_type": "execute_result"
    }
   ],
   "source": [
    "dic"
   ]
  },
  {
   "cell_type": "code",
   "execution_count": 93,
   "metadata": {},
   "outputs": [],
   "source": [
    "dic0 = {\"name\":\"Lu\"}"
   ]
  },
  {
   "cell_type": "code",
   "execution_count": 94,
   "metadata": {},
   "outputs": [
    {
     "data": {
      "text/plain": [
       "{'name': 'Lu'}"
      ]
     },
     "execution_count": 94,
     "metadata": {},
     "output_type": "execute_result"
    }
   ],
   "source": [
    "dic0"
   ]
  },
  {
   "cell_type": "code",
   "execution_count": null,
   "metadata": {},
   "outputs": [],
   "source": []
  },
  {
   "cell_type": "code",
   "execution_count": null,
   "metadata": {},
   "outputs": [],
   "source": []
  },
  {
   "cell_type": "code",
   "execution_count": null,
   "metadata": {},
   "outputs": [],
   "source": []
  }
 ],
 "metadata": {
  "kernelspec": {
   "display_name": "Python 3",
   "language": "python",
   "name": "python3"
  },
  "language_info": {
   "codemirror_mode": {
    "name": "ipython",
    "version": 3
   },
   "file_extension": ".py",
   "mimetype": "text/x-python",
   "name": "python",
   "nbconvert_exporter": "python",
   "pygments_lexer": "ipython3",
   "version": "3.6.5"
  }
 },
 "nbformat": 4,
 "nbformat_minor": 2
}
