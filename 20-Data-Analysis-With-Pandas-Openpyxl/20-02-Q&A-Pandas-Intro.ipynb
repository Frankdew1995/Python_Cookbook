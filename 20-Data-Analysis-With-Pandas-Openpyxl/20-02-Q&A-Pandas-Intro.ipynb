{
 "cells": [
  {
   "cell_type": "code",
   "execution_count": 1,
   "metadata": {},
   "outputs": [],
   "source": [
    "import pandas as pd"
   ]
  },
  {
   "cell_type": "markdown",
   "metadata": {},
   "source": [
    "# 1.) sheet_name - Check which sheets are available"
   ]
  },
  {
   "cell_type": "code",
   "execution_count": 15,
   "metadata": {},
   "outputs": [],
   "source": [
    "#### Give a ExcelFile Object Name\n",
    "file = pd.ExcelFile(\"Wusthof.xlsx\")"
   ]
  },
  {
   "cell_type": "code",
   "execution_count": 16,
   "metadata": {},
   "outputs": [
    {
     "data": {
      "text/plain": [
       "['Sheet1', 'Sheet2', 'Zh', 'Img', 'iPhone']"
      ]
     },
     "execution_count": 16,
     "metadata": {},
     "output_type": "execute_result"
    }
   ],
   "source": [
    "### get all sheet names\n",
    "file.sheet_names"
   ]
  },
  {
   "cell_type": "code",
   "execution_count": 12,
   "metadata": {},
   "outputs": [],
   "source": [
    "df = pd.read_excel(\"Wusthof.xlsx\", sheet_name=2)"
   ]
  },
  {
   "cell_type": "code",
   "execution_count": 27,
   "metadata": {},
   "outputs": [
    {
     "data": {
      "text/html": [
       "<div>\n",
       "<style scoped>\n",
       "    .dataframe tbody tr th:only-of-type {\n",
       "        vertical-align: middle;\n",
       "    }\n",
       "\n",
       "    .dataframe tbody tr th {\n",
       "        vertical-align: top;\n",
       "    }\n",
       "\n",
       "    .dataframe thead th {\n",
       "        text-align: right;\n",
       "    }\n",
       "</style>\n",
       "<table border=\"1\" class=\"dataframe\">\n",
       "  <thead>\n",
       "    <tr style=\"text-align: right;\">\n",
       "      <th></th>\n",
       "      <th>产品名称</th>\n",
       "      <th>价格</th>\n",
       "      <th>评论数</th>\n",
       "      <th>情感指数</th>\n",
       "      <th>日期</th>\n",
       "      <th>时间戳</th>\n",
       "      <th>时间值</th>\n",
       "      <th>日期字符串</th>\n",
       "      <th>日期点</th>\n",
       "    </tr>\n",
       "  </thead>\n",
       "  <tbody>\n",
       "    <tr>\n",
       "      <th>0</th>\n",
       "      <td>Wusthof Classic 8-Inch Chef's Knife</td>\n",
       "      <td>124.97</td>\n",
       "      <td>506</td>\n",
       "      <td>0.222105</td>\n",
       "      <td>20180518</td>\n",
       "      <td>1526601600</td>\n",
       "      <td>20180518</td>\n",
       "      <td>2018-05-18</td>\n",
       "      <td>20180518.0</td>\n",
       "    </tr>\n",
       "    <tr>\n",
       "      <th>1</th>\n",
       "      <td>Wusthof Gourmet 18 Piece Cherry Block Knife Cu...</td>\n",
       "      <td>279.95</td>\n",
       "      <td>27</td>\n",
       "      <td>0.222105</td>\n",
       "      <td>20180518</td>\n",
       "      <td>1526601600</td>\n",
       "      <td>20180518</td>\n",
       "      <td>2018-05-18</td>\n",
       "      <td>20180518.0</td>\n",
       "    </tr>\n",
       "    <tr>\n",
       "      <th>2</th>\n",
       "      <td>Wusthof Classic Ikon 8-Inch Cook's Knife, Black</td>\n",
       "      <td>120.04</td>\n",
       "      <td>323</td>\n",
       "      <td>0.222105</td>\n",
       "      <td>20180518</td>\n",
       "      <td>1526601600</td>\n",
       "      <td>20180518</td>\n",
       "      <td>2018-05-18</td>\n",
       "      <td>20180518.0</td>\n",
       "    </tr>\n",
       "    <tr>\n",
       "      <th>3</th>\n",
       "      <td>Wusthof 4183-7 Wusthof Classic 7-Inch Santoku ...</td>\n",
       "      <td>104.94</td>\n",
       "      <td>436</td>\n",
       "      <td>0.222105</td>\n",
       "      <td>20180518</td>\n",
       "      <td>1526601600</td>\n",
       "      <td>20180518</td>\n",
       "      <td>2018-05-18</td>\n",
       "      <td>20180518.0</td>\n",
       "    </tr>\n",
       "    <tr>\n",
       "      <th>4</th>\n",
       "      <td>Wüsthof - 10\" Knife Sharpening Steel with Loop</td>\n",
       "      <td>24.95</td>\n",
       "      <td>364</td>\n",
       "      <td>0.222105</td>\n",
       "      <td>20180518</td>\n",
       "      <td>1526601600</td>\n",
       "      <td>20180518</td>\n",
       "      <td>2018-05-18</td>\n",
       "      <td>20180518.0</td>\n",
       "    </tr>\n",
       "  </tbody>\n",
       "</table>\n",
       "</div>"
      ],
      "text/plain": [
       "                                                产品名称      价格  评论数      情感指数  \\\n",
       "0                Wusthof Classic 8-Inch Chef's Knife  124.97  506  0.222105   \n",
       "1  Wusthof Gourmet 18 Piece Cherry Block Knife Cu...  279.95   27  0.222105   \n",
       "2    Wusthof Classic Ikon 8-Inch Cook's Knife, Black  120.04  323  0.222105   \n",
       "3  Wusthof 4183-7 Wusthof Classic 7-Inch Santoku ...  104.94  436  0.222105   \n",
       "4     Wüsthof - 10\" Knife Sharpening Steel with Loop   24.95  364  0.222105   \n",
       "\n",
       "         日期         时间戳       时间值       日期字符串         日期点  \n",
       "0  20180518  1526601600  20180518  2018-05-18  20180518.0  \n",
       "1  20180518  1526601600  20180518  2018-05-18  20180518.0  \n",
       "2  20180518  1526601600  20180518  2018-05-18  20180518.0  \n",
       "3  20180518  1526601600  20180518  2018-05-18  20180518.0  \n",
       "4  20180518  1526601600  20180518  2018-05-18  20180518.0  "
      ]
     },
     "execution_count": 27,
     "metadata": {},
     "output_type": "execute_result"
    }
   ],
   "source": [
    "df.head()"
   ]
  },
  {
   "cell_type": "markdown",
   "metadata": {},
   "source": [
    "# 2.) Check Columns and Row Indices. "
   ]
  },
  {
   "cell_type": "code",
   "execution_count": 26,
   "metadata": {},
   "outputs": [
    {
     "name": "stdout",
     "output_type": "stream",
     "text": [
      "['产品名称', '价格', '评论数', '情感指数', '日期', '时间戳', '时间值', '日期字符串', '日期点']\n",
      "['产品名称', '价格', '评论数', '情感指数', '日期', '时间戳', '时间值', '日期字符串', '日期点']\n"
     ]
    }
   ],
   "source": [
    "### Columns Names\n",
    "print(list(df.columns))\n",
    "\n",
    "print(df.columns.tolist())\n",
    "\n"
   ]
  },
  {
   "cell_type": "code",
   "execution_count": 24,
   "metadata": {},
   "outputs": [
    {
     "data": {
      "text/plain": [
       "[0, 1, 2, 3, 4, 5]"
      ]
     },
     "execution_count": 24,
     "metadata": {},
     "output_type": "execute_result"
    }
   ],
   "source": [
    "### Row Indices. \n",
    "list(df.index)[:6]"
   ]
  },
  {
   "cell_type": "code",
   "execution_count": null,
   "metadata": {},
   "outputs": [],
   "source": []
  }
 ],
 "metadata": {
  "kernelspec": {
   "display_name": "Python 3",
   "language": "python",
   "name": "python3"
  },
  "language_info": {
   "codemirror_mode": {
    "name": "ipython",
    "version": 3
   },
   "file_extension": ".py",
   "mimetype": "text/x-python",
   "name": "python",
   "nbconvert_exporter": "python",
   "pygments_lexer": "ipython3",
   "version": "3.6.5"
  }
 },
 "nbformat": 4,
 "nbformat_minor": 2
}
